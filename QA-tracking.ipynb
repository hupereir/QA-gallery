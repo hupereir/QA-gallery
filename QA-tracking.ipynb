{
 "cells": [
  {
   "cell_type": "markdown",
   "metadata": {},
   "source": [
    "# Introduction\n",
    "\n",
    "QA plots for the generic tracking performance"
   ]
  },
  {
   "cell_type": "code",
   "execution_count": 1,
   "metadata": {
    "execution": {
     "iopub.execute_input": "2021-01-20T07:22:34.588167Z",
     "iopub.status.busy": "2021-01-20T07:22:34.587391Z",
     "iopub.status.idle": "2021-01-20T07:22:34.592701Z",
     "shell.execute_reply": "2021-01-20T07:22:34.591355Z"
    }
   },
   "outputs": [],
   "source": [
    "# imports to write dynamic markdown contents\n",
    "import os\n",
    "from IPython.display import display, Markdown, Latex\n",
    "from IPython.display import HTML"
   ]
  },
  {
   "cell_type": "code",
   "execution_count": 2,
   "metadata": {
    "execution": {
     "iopub.execute_input": "2021-01-20T07:22:34.607190Z",
     "iopub.status.busy": "2021-01-20T07:22:34.606235Z",
     "iopub.status.idle": "2021-01-20T07:22:34.613076Z",
     "shell.execute_reply": "2021-01-20T07:22:34.612597Z"
    }
   },
   "outputs": [
    {
     "data": {
      "text/markdown": [
       "*For the result HTML page:* "
      ],
      "text/plain": [
       "<IPython.core.display.Markdown object>"
      ]
     },
     "metadata": {},
     "output_type": "display_data"
    },
    {
     "data": {
      "text/html": [
       "<script>\n",
       "code_show=true; \n",
       "function code_toggle() {\n",
       " if (code_show){\n",
       " $('div.input').hide();\n",
       " } else {\n",
       " $('div.input').show();\n",
       " }\n",
       " code_show = !code_show\n",
       "} \n",
       "$( document ).ready(code_toggle);\n",
       "</script>\n",
       "<form action=\"javascript:code_toggle()\"><input type=\"submit\" value=\"Click here to toggle on/off the raw code.\"></form>"
      ],
      "text/plain": [
       "<IPython.core.display.HTML object>"
      ]
     },
     "execution_count": 1,
     "metadata": {},
     "output_type": "execute_result"
    }
   ],
   "source": [
    "# turn off/on code for the result HTML page\n",
    "\n",
    "display(Markdown('*For the result HTML page:* '))\n",
    "    \n",
    "HTML('''<script>\n",
    "code_show=true; \n",
    "function code_toggle() {\n",
    " if (code_show){\n",
    " $('div.input').hide();\n",
    " } else {\n",
    " $('div.input').show();\n",
    " }\n",
    " code_show = !code_show\n",
    "} \n",
    "$( document ).ready(code_toggle);\n",
    "</script>\n",
    "<form action=\"javascript:code_toggle()\"><input type=\"submit\" value=\"Click here to toggle on/off the raw code.\"></form>''')"
   ]
  },
  {
   "cell_type": "code",
   "execution_count": 3,
   "metadata": {
    "execution": {
     "iopub.execute_input": "2021-01-20T07:22:34.617092Z",
     "iopub.status.busy": "2021-01-20T07:22:34.616561Z",
     "iopub.status.idle": "2021-01-20T07:22:34.622375Z",
     "shell.execute_reply": "2021-01-20T07:22:34.621422Z"
    }
   },
   "outputs": [
    {
     "data": {
      "text/markdown": [
       "[//]: # (This section starts with a 2nd level heading and get embedded in the result QA report at https://github.com/sPHENIX-Collaboration/QA-gallery/tree/QA-tracking-high-occupancy)\n",
       "\n",
       "## Tracking QA at high occupancy\n",
       "\n",
       "High occupancy tracking QA consists full tracker + reconstruction of events with 76 $\\pi^+$, and 76 $\\pi^-$ in a $\\Delta\\eta \\times \\Delta\\phi = 0.5 \\times 0.5$ window. In this small window, we would like to emulate the occupancy for 0-10% AuAu 200 GeV $\\delta N_{Ch}/\\delta\\eta = 609$ [DOI: 10.1103/PhysRevC.83.024913]. Beyond this window, six more high $p_T>60$ GeV$/c$ pions are added to help constraint 3D vertex. \n",
       "\n",
       "Please note the calorimeters are disabled to improve execution speed, which also removed some of the correlated albedo background for the tracker. \n",
       "\n",
       "The source code of the macro can be found at https://github.com/sPHENIX-Collaboration/macros/tree/QA-tracking-high-occupancy or [comparing it to the master branch](https://github.com/sPHENIX-Collaboration/macros/compare/QA-tracking-high-occupancy?expand=1).\n"
      ],
      "text/plain": [
       "<IPython.core.display.Markdown object>"
      ]
     },
     "metadata": {},
     "output_type": "display_data"
    }
   ],
   "source": [
    "import os.path\n",
    "\n",
    "# readme file of the macros, available if run under JenkinsCI\n",
    "# https://github.com/sPHENIX-Collaboration/utilities/blob/master/jenkins/built-test/test-tracking-qa.sh \n",
    "\n",
    "macro_markdown = 'Fun4All-macros-README.md'\n",
    "\n",
    "if os.path.isfile(macro_markdown) :\n",
    "    with open(macro_markdown, 'r') as file:\n",
    "        display(Markdown(file.read()))"
   ]
  },
  {
   "cell_type": "markdown",
   "metadata": {},
   "source": [
    "## `pyROOT` env check"
   ]
  },
  {
   "cell_type": "code",
   "execution_count": 4,
   "metadata": {
    "execution": {
     "iopub.execute_input": "2021-01-20T07:22:34.627425Z",
     "iopub.status.busy": "2021-01-20T07:22:34.626853Z",
     "iopub.status.idle": "2021-01-20T07:22:38.988326Z",
     "shell.execute_reply": "2021-01-20T07:22:38.987597Z"
    }
   },
   "outputs": [
    {
     "name": "stdout",
     "output_type": "stream",
     "text": [
      "Welcome to JupyROOT 6.22/02\n"
     ]
    },
    {
     "data": {
      "text/markdown": [
       "via sPHENIX software distribution at `/var/lib/jenkins/workspace/sPHENIX/Build-Master-gcc8@2/build/new/install.1`"
      ],
      "text/plain": [
       "<IPython.core.display.Markdown object>"
      ]
     },
     "metadata": {},
     "output_type": "display_data"
    }
   ],
   "source": [
    "import ROOT\n",
    "\n",
    "OFFLINE_MAIN = os.getenv(\"OFFLINE_MAIN\")\n",
    "if OFFLINE_MAIN is not None:\n",
    "    display(Markdown(f\"via sPHENIX software distribution at `{OFFLINE_MAIN}`\"))"
   ]
  },
  {
   "cell_type": "markdown",
   "metadata": {},
   "source": [
    "## Plotting source code"
   ]
  },
  {
   "cell_type": "code",
   "execution_count": 5,
   "metadata": {
    "execution": {
     "iopub.execute_input": "2021-01-20T07:22:39.004147Z",
     "iopub.status.busy": "2021-01-20T07:22:39.002926Z",
     "iopub.status.idle": "2021-01-20T07:22:39.127458Z",
     "shell.execute_reply": "2021-01-20T07:22:39.126397Z"
    }
   },
   "outputs": [
    {
     "data": {
      "text/markdown": [
       "View the source code repository at https://github.com/sPHENIX-Collaboration/QA-gallery.git"
      ],
      "text/plain": [
       "<IPython.core.display.Markdown object>"
      ]
     },
     "metadata": {},
     "output_type": "display_data"
    }
   ],
   "source": [
    "import subprocess\n",
    "\n",
    "try:\n",
    "    git_url = \\\n",
    "        subprocess.run(['git','remote','get-url','origin'], stdout=subprocess.PIPE)\\\n",
    "        .stdout.decode('utf-8').strip()\\\n",
    "        .replace('git@github.com:','https://github.com/')\n",
    "\n",
    "    display(Markdown(f\"View the source code repository at {git_url}\"))\n",
    "except: # catch *all* exceptions\n",
    "    #     well do nothing\n",
    "    pass"
   ]
  },
  {
   "cell_type": "markdown",
   "metadata": {},
   "source": [
    "## JenkinsCI information (if available)"
   ]
  },
  {
   "cell_type": "code",
   "execution_count": 6,
   "metadata": {
    "execution": {
     "iopub.execute_input": "2021-01-20T07:22:39.138063Z",
     "iopub.status.busy": "2021-01-20T07:22:39.137333Z",
     "iopub.status.idle": "2021-01-20T07:22:39.250727Z",
     "shell.execute_reply": "2021-01-20T07:22:39.250222Z"
    }
   },
   "outputs": [
    {
     "data": {
      "text/markdown": [
       "Some further details about the QA run, if executed under the Jenkins CI:"
      ],
      "text/plain": [
       "<IPython.core.display.Markdown object>"
      ]
     },
     "metadata": {},
     "output_type": "display_data"
    },
    {
     "data": {
      "text/markdown": [
       "* The commit being checked is sPHENIX-Collaboration/coresoftware/816b39ca36483e3d528447d199480f1081175a10"
      ],
      "text/plain": [
       "<IPython.core.display.Markdown object>"
      ]
     },
     "metadata": {},
     "output_type": "display_data"
    },
    {
     "data": {
      "text/markdown": [
       "* Link to the build: https://web.sdcc.bnl.gov/jenkins-sphenix/job/sPHENIX/job/test-tracking-high-occupancy-qa/558/"
      ],
      "text/plain": [
       "<IPython.core.display.Markdown object>"
      ]
     },
     "metadata": {},
     "output_type": "display_data"
    },
    {
     "data": {
      "text/markdown": [
       "* Git repo for macros: https://github.com/sPHENIX-Collaboration/macros.git , which merges `*/master` and the QA tracking branch"
      ],
      "text/plain": [
       "<IPython.core.display.Markdown object>"
      ]
     },
     "metadata": {},
     "output_type": "display_data"
    },
    {
     "data": {
      "text/markdown": [
       "* Download the QA ROOT files: https://web.sdcc.bnl.gov/jenkins-sphenix/job/sPHENIX/job/test-tracking-high-occupancy-qa/558/display/redirect?page=artifacts"
      ],
      "text/plain": [
       "<IPython.core.display.Markdown object>"
      ]
     },
     "metadata": {},
     "output_type": "display_data"
    },
    {
     "data": {
      "text/markdown": [
       "Automatically generated by [sPHENIX Jenkins continuous integration](https://web.sdcc.bnl.gov/jenkins-sphenix/) [![sPHENIX](https://raw.githubusercontent.com/sPHENIX-Collaboration/utilities/master/jenkins/material/sphenix-logo-white-bg-72p.png)](https://www.sphenix.bnl.gov/web/) &nbsp; &nbsp; &nbsp; &nbsp; &nbsp; &nbsp; [![jenkins.io](https://raw.githubusercontent.com/sPHENIX-Collaboration/utilities/master/jenkins/material/jenkins_logo_title-72p.png)](https://jenkins.io/)"
      ],
      "text/plain": [
       "<IPython.core.display.Markdown object>"
      ]
     },
     "metadata": {},
     "output_type": "display_data"
    }
   ],
   "source": [
    "display(Markdown('Some further details about the QA run, if executed under the Jenkins CI:'))\n",
    "\n",
    "checkrun_repo_commit = os.getenv(\"checkrun_repo_commit\")\n",
    "if checkrun_repo_commit is not None:\n",
    "    display(Markdown(f\"* The commit being checked is {checkrun_repo_commit}\"))\n",
    "        \n",
    "ghprbPullLink = os.getenv(\"ghprbPullLink\")\n",
    "if ghprbPullLink is not None:\n",
    "    display(Markdown(f\"* Link to the pull request: {ghprbPullLink}\"))\n",
    "\n",
    "BUILD_URL =  os.getenv(\"BUILD_URL\")\n",
    "if BUILD_URL is not None:\n",
    "    display(Markdown(f\"* Link to the build: {BUILD_URL}\"))\n",
    "\n",
    "git_url_macros =  os.getenv(\"git_url_macros\")\n",
    "sha_macros =  os.getenv(\"sha_macros\")\n",
    "if git_url_macros is not None:\n",
    "    display(Markdown(f\"* Git repo for macros: {git_url_macros} , which merges `{sha_macros}` and the QA tracking branch\"))\n",
    "\n",
    "RUN_ARTIFACTS_DISPLAY_URL = os.getenv(\"RUN_ARTIFACTS_DISPLAY_URL\")\n",
    "if RUN_ARTIFACTS_DISPLAY_URL is not None:\n",
    "    display(Markdown(f\"* Download the QA ROOT files: {RUN_ARTIFACTS_DISPLAY_URL}\"))\n",
    "\n",
    "JENKINS_URL  = os.getenv(\"JENKINS_URL\")\n",
    "if JENKINS_URL is not None:\n",
    "    display(Markdown(f\"Automatically generated by [sPHENIX Jenkins continuous integration]({JENKINS_URL}) [![sPHENIX](https://raw.githubusercontent.com/sPHENIX-Collaboration/utilities/master/jenkins/material/sphenix-logo-white-bg-72p.png)](https://www.sphenix.bnl.gov/web/) &nbsp; &nbsp; &nbsp; &nbsp; &nbsp; &nbsp; [![jenkins.io](https://raw.githubusercontent.com/sPHENIX-Collaboration/utilities/master/jenkins/material/jenkins_logo_title-72p.png)](https://jenkins.io/)\"))"
   ]
  },
  {
   "cell_type": "markdown",
   "metadata": {},
   "source": [
    "\n",
    "# Initialization"
   ]
  },
  {
   "cell_type": "code",
   "execution_count": 7,
   "metadata": {
    "execution": {
     "iopub.execute_input": "2021-01-20T07:22:39.626649Z",
     "iopub.status.busy": "2021-01-20T07:22:39.625409Z",
     "iopub.status.idle": "2021-01-20T07:22:39.731052Z",
     "shell.execute_reply": "2021-01-20T07:22:39.729728Z"
    },
    "scrolled": true
   },
   "outputs": [],
   "source": [
    "%%cpp -d\n",
    "\n",
    "#include \"QA_Draw_Utility.C\"\n",
    "\n",
    "#include <sPhenixStyle.C>\n",
    "\n",
    "#include <TFile.h>\n",
    "#include <TLine.h>\n",
    "#include <TString.h>\n",
    "#include <TTree.h>\n",
    "#include <cassert>\n",
    "#include <cmath>"
   ]
  },
  {
   "cell_type": "code",
   "execution_count": 8,
   "metadata": {
    "execution": {
     "iopub.execute_input": "2021-01-20T07:22:40.688759Z",
     "iopub.status.busy": "2021-01-20T07:22:39.734938Z",
     "iopub.status.idle": "2021-01-20T07:22:40.795063Z",
     "shell.execute_reply": "2021-01-20T07:22:40.793820Z"
    }
   },
   "outputs": [
    {
     "name": "stdout",
     "output_type": "stream",
     "text": [
      "sPhenixStyle: Applying nominal settings.\n",
      "sPhenixStyle: ROOT6 mode\n"
     ]
    }
   ],
   "source": [
    "%%cpp\n",
    "\n",
    "SetsPhenixStyle();\n",
    "TVirtualFitter::SetDefaultFitter(\"Minuit2\");\n",
    "\n",
    "// test sPHENIX lib load\n",
    "// gSystem->Load(\"libg4eval.so\");\n",
    "\n",
    "// test libs\n",
    "// gSystem->ListLibraries();"
   ]
  },
  {
   "cell_type": "markdown",
   "metadata": {},
   "source": [
    "## Inputs and file checks"
   ]
  },
  {
   "cell_type": "code",
   "execution_count": 9,
   "metadata": {
    "execution": {
     "iopub.execute_input": "2021-01-20T07:22:40.804618Z",
     "iopub.status.busy": "2021-01-20T07:22:40.803603Z",
     "iopub.status.idle": "2021-01-20T07:22:40.908158Z",
     "shell.execute_reply": "2021-01-20T07:22:40.907435Z"
    }
   },
   "outputs": [],
   "source": [
    "\n",
    "qa_file_name_new = os.getenv(\"qa_file_name_new\")\n",
    "if qa_file_name_new is None:\n",
    "    qa_file_name_new = \"G4sPHENIX_test-tracking-low-occupancy-qa_Event100_Sum10_qa.root\"\n",
    "    display(Markdown(f\"`qa_file_name_new` env not set. use the default `qa_file_name_new={qa_file_name_new}`\"))\n",
    "\n",
    "qa_file_name_ref = os.getenv(\"qa_file_name_ref\")\n",
    "if qa_file_name_ref is None:\n",
    "    qa_file_name_ref = \"reference/G4sPHENIX_test-tracking-low-occupancy-qa_Event100_Sum10_qa.root\"\n",
    "    display(Markdown(f\"`qa_file_name_ref` env not set. use the default `qa_file_name_ref={qa_file_name_ref}`\"))\n",
    "elif qa_file_name_ref == 'None':\n",
    "    qa_file_name_ref = None\n",
    "    display(Markdown(f\"`qa_file_name_ref` = None and we are set to not to use the reference histograms\"))\n",
    "    \n"
   ]
  },
  {
   "cell_type": "code",
   "execution_count": 10,
   "metadata": {
    "execution": {
     "iopub.execute_input": "2021-01-20T07:22:40.922232Z",
     "iopub.status.busy": "2021-01-20T07:22:40.921471Z",
     "iopub.status.idle": "2021-01-20T07:22:41.095151Z",
     "shell.execute_reply": "2021-01-20T07:22:41.094053Z"
    }
   },
   "outputs": [
    {
     "data": {
      "text/markdown": [
       "Openning QA file at `G4sPHENIX_test-tracking_Event50_Sum10_qa.root`"
      ],
      "text/plain": [
       "<IPython.core.display.Markdown object>"
      ]
     },
     "metadata": {},
     "output_type": "display_data"
    },
    {
     "data": {
      "text/markdown": [
       "Openning QA reference file at `reference/G4sPHENIX_test-tracking_Event50_Sum10_qa.root`"
      ],
      "text/plain": [
       "<IPython.core.display.Markdown object>"
      ]
     },
     "metadata": {},
     "output_type": "display_data"
    }
   ],
   "source": [
    "# qa_file_new = ROOT.TFile.Open(qa_file_name_new);\n",
    "\n",
    "# assert qa_file_new.IsOpen()\n",
    "# qa_file_new.ls()\n",
    "display(Markdown(f\"Openning QA file at `{qa_file_name_new}`\"))\n",
    "ROOT.gInterpreter.ProcessLine(f\"TFile *qa_file_new = new TFile(\\\"{qa_file_name_new}\\\");\")\n",
    "ROOT.gInterpreter.ProcessLine(f\"const char * qa_file_name_new = \\\"{qa_file_name_new}\\\";\")\n",
    "\n",
    "if qa_file_name_ref is not None:\n",
    "#     qa_file_ref = ROOT.TFile.Open(qa_file_name_ref);\n",
    "\n",
    "#     assert qa_file_ref.IsOpen()\n",
    "    display(Markdown(f\"Openning QA reference file at `{qa_file_name_ref}`\"))\n",
    "    ROOT.gInterpreter.ProcessLine(f\"TFile *qa_file_ref = new TFile(\\\"{qa_file_name_ref}\\\");\")\n",
    "    ROOT.gInterpreter.ProcessLine(f\"const char *  qa_file_name_ref = \\\"{qa_file_name_ref}\\\";\")\n",
    "else:\n",
    "    ROOT.gInterpreter.ProcessLine(f\"TFile *qa_file_ref = nullptr;\")\n",
    "    ROOT.gInterpreter.ProcessLine(f\"const char *  qa_file_name_ref = nullptr;\")\n"
   ]
  },
  {
   "cell_type": "code",
   "execution_count": 11,
   "metadata": {
    "execution": {
     "iopub.execute_input": "2021-01-20T07:22:41.113580Z",
     "iopub.status.busy": "2021-01-20T07:22:41.112352Z",
     "iopub.status.idle": "2021-01-20T07:22:41.217690Z",
     "shell.execute_reply": "2021-01-20T07:22:41.216508Z"
    },
    "scrolled": true
   },
   "outputs": [],
   "source": [
    "%%cpp\n",
    "\n",
    "if (qa_file_new == nullptr) \n",
    "{\n",
    "    cout <<\"Error, can not open QA root file\"<<qa_file_name_new<<endl;\n",
    "    exit(1);\n",
    "}\n",
    "\n",
    "// list inputs histograms if needed\n",
    "// qa_file_new ->ls();\n",
    "\n",
    "//TFile *qa_file_ref = NULL;\n",
    "//if (qa_file_name_ref)\n",
    "//{\n",
    "//    qa_file_ref = new TFile(qa_file_name_ref);\n",
    "//  \n",
    "//    if (qa_file_ref == nullptr) \n",
    "//    {\n",
    "//        cout <<\"Error, can not open QA root file\"<<qa_file_name_ref<<endl;\n",
    "//        exit(1);\n",
    "//    }\n",
    "//}"
   ]
  },
  {
   "cell_type": "markdown",
   "metadata": {},
   "source": [
    "# Truth matched efficiency and $p_T$ resolution"
   ]
  },
  {
   "cell_type": "markdown",
   "metadata": {},
   "source": [
    "## Match truth track to reco tracks\n",
    "\n",
    "Reco track matched with truth track. Please note the efficiency only require truth-reco matching in unique pairs, no cut on the reco quality is required, as defined in [`QAG4SimulationTracking::process_event(PHCompositeNode * )`](https://sphenix-collaboration.github.io/doxygen/de/dbf/classQAG4SimulationTracking.html#ac2aeab5238fcf828f70c61b4976b57fe)"
   ]
  },
  {
   "cell_type": "code",
   "execution_count": 12,
   "metadata": {
    "execution": {
     "iopub.execute_input": "2021-01-20T07:22:41.513396Z",
     "iopub.status.busy": "2021-01-20T07:22:41.512753Z",
     "iopub.status.idle": "2021-01-20T07:22:41.959634Z",
     "shell.execute_reply": "2021-01-20T07:22:41.960070Z"
    }
   },
   "outputs": [
    {
     "data": {
      "image/png": "[encoded data removed]",
      "text/plain": [
       "<IPython.core.display.Image object>"
      ]
     },
     "metadata": {},
     "output_type": "display_data"
    }
   ],
   "source": [
    "%%cpp\n",
    "\n",
    "{\n",
    "  //base histogram from the reco module name \n",
    "  const char *hist_name_prefix = \"QAG4SimulationTracking\";\n",
    "  TString prefix = TString(\"h_\") + hist_name_prefix + TString(\"_\");\n",
    "    \n",
    "  // obtain normalization\n",
    "  double Nevent_new = 1;\n",
    "  double Nevent_ref = 1;\n",
    "\n",
    "  TCanvas *c1 = new TCanvas(TString(\"QA_Draw_Tracking_TruthMatchingOverview\") +\n",
    "                                TString(\"_\") + hist_name_prefix,\n",
    "                            TString(\"QA_Draw_Tracking_TruthMatchingOverview\") +\n",
    "                                TString(\"_\") + hist_name_prefix,\n",
    "                            1800, 1000);\n",
    "  c1->Divide(3, 1);\n",
    "  int idx = 1;\n",
    "  TPad *p;\n",
    "\n",
    "  {\n",
    "    static const int nrebin = 5;\n",
    "\n",
    "    p = (TPad *)c1->cd(idx++);\n",
    "    c1->Update();\n",
    "    p->SetLogx();\n",
    "    p->SetGridy();\n",
    "\n",
    "    TH1 *h_pass =\n",
    "        (TH1 *)qa_file_new->GetObjectChecked(prefix + \"nReco_pTGen\", \"TH1\");\n",
    "    TH1 *h_norm =\n",
    "        (TH1 *)qa_file_new->GetObjectChecked(prefix + \"nGen_pTGen\", \"TH1\");\n",
    "    assert(h_norm);\n",
    "    assert(h_pass);\n",
    "      \n",
    "      h_norm->SetDirectory(nullptr);\n",
    "      h_pass->SetDirectory(nullptr);\n",
    "\n",
    "    h_norm->Rebin(nrebin);\n",
    "    h_pass->Rebin(nrebin);\n",
    "\n",
    "    TH1 *h_ratio = GetBinominalRatio(h_pass, h_norm);\n",
    "\n",
    "    //    h_ratio->GetXaxis()->SetRangeUser(min_Et, max_Et);\n",
    "    h_ratio->GetYaxis()->SetTitle(\"Reco efficiency\");\n",
    "    h_ratio->GetYaxis()->SetRangeUser(-0, 1.);\n",
    "\n",
    "    TH1 *h_ratio_ref = NULL;\n",
    "    if (qa_file_ref) {\n",
    "      TH1 *h_pass =\n",
    "          (TH1 *)qa_file_ref->GetObjectChecked(prefix + \"nReco_pTGen\", \"TH1\");\n",
    "      TH1 *h_norm =\n",
    "          (TH1 *)qa_file_ref->GetObjectChecked(prefix + \"nGen_pTGen\", \"TH1\");\n",
    "      assert(h_norm);\n",
    "      assert(h_pass);\n",
    "      h_norm->SetDirectory(nullptr);\n",
    "      h_pass->SetDirectory(nullptr);\n",
    "      h_norm->Rebin(nrebin);\n",
    "      h_pass->Rebin(nrebin);\n",
    "      h_ratio_ref = GetBinominalRatio(h_pass, h_norm);\n",
    "    }\n",
    "\n",
    "    h_ratio->SetTitle(TString(hist_name_prefix) + \": Tracking Efficiency\");\n",
    "\n",
    "    DrawReference(h_ratio, h_ratio_ref, false);\n",
    "  }\n",
    "\n",
    "  {\n",
    "    static const int nrebin = 4;\n",
    "\n",
    "    p = (TPad *)c1->cd(idx++);\n",
    "    c1->Update();\n",
    "    // p->SetLogx();\n",
    "    p->SetGridy();\n",
    "\n",
    "    TH1 *h_pass =\n",
    "        (TH1 *)qa_file_new->GetObjectChecked(prefix + \"nReco_etaGen\", \"TH1\");\n",
    "    TH1 *h_norm =\n",
    "        (TH1 *)qa_file_new->GetObjectChecked(prefix + \"nGen_etaGen\", \"TH1\");\n",
    "    assert(h_norm);\n",
    "    assert(h_pass);\n",
    "\n",
    "      h_norm->SetDirectory(nullptr);\n",
    "      h_pass->SetDirectory(nullptr);\n",
    "    h_norm->Rebin(nrebin);\n",
    "    h_pass->Rebin(nrebin);\n",
    "\n",
    "    TH1 *h_ratio = GetBinominalRatio(h_pass, h_norm);\n",
    "\n",
    "    h_ratio->GetXaxis()->SetRangeUser(-1.1, 1.1);\n",
    "    h_ratio->GetYaxis()->SetTitle(\"Reco efficiency\");\n",
    "    h_ratio->GetYaxis()->SetRangeUser(-0, 1.);\n",
    "\n",
    "    TH1 *h_ratio_ref = NULL;\n",
    "    if (qa_file_ref) {\n",
    "      TH1 *h_pass =\n",
    "          (TH1 *)qa_file_ref->GetObjectChecked(prefix + \"nReco_etaGen\", \"TH1\");\n",
    "      TH1 *h_norm =\n",
    "          (TH1 *)qa_file_ref->GetObjectChecked(prefix + \"nGen_etaGen\", \"TH1\");\n",
    "      assert(h_norm);\n",
    "      assert(h_pass);\n",
    "      h_norm->SetDirectory(nullptr);\n",
    "      h_pass->SetDirectory(nullptr);\n",
    "      h_norm->Rebin(nrebin);\n",
    "      h_pass->Rebin(nrebin);\n",
    "      h_ratio_ref = GetBinominalRatio(h_pass, h_norm);\n",
    "    }\n",
    "\n",
    "    h_ratio->SetTitle(TString(hist_name_prefix) + \": Tracking Efficiency\");\n",
    "\n",
    "    DrawReference(h_ratio, h_ratio_ref, false);\n",
    "  }\n",
    "\n",
    "  {\n",
    "    p = (TPad *)c1->cd(idx++);\n",
    "    c1->Update();\n",
    "    //    p->SetLogx();\n",
    "    TH1 *frame = p->DrawFrame(0, .9, 50, 1.1,\n",
    "                              \"Mean and sigma, p_{T,reco}/p_{T,truth};Truth p_{T} [GeV/c];<p_{T,reco}/p_{T,truth}> #pm #sigma(p_{T,reco}/p_{T,truth})\");\n",
    "    //gPad->SetLeftMargin(.2);\n",
    "    gPad->SetTopMargin(-1);\n",
    "    frame->GetYaxis()->SetTitleOffset(1.7);\n",
    "    //TLine *l = new TLine(0, 1, 50, 1);\n",
    "    //l->SetLineColor(kGray);\n",
    "    //l->Draw();\n",
    "    HorizontalLine( gPad, 1 )->Draw();\n",
    "\n",
    "    TH2 *h_QAG4SimulationTracking_pTRecoGenRatio_pTGen =\n",
    "        (TH2 *)qa_file_new->GetObjectChecked(prefix + \"pTRecoGenRatio_pTGen\",\n",
    "                                             \"TH2\");\n",
    "    assert(h_QAG4SimulationTracking_pTRecoGenRatio_pTGen);\n",
    "\n",
    "      h_QAG4SimulationTracking_pTRecoGenRatio_pTGen->SetDirectory(nullptr);\n",
    "    h_QAG4SimulationTracking_pTRecoGenRatio_pTGen->Rebin2D(16, 1);\n",
    "\n",
    "    TGraphErrors *ge_QAG4SimulationTracking_pTRecoGenRatio_pTGen =\n",
    "        FitProfile(h_QAG4SimulationTracking_pTRecoGenRatio_pTGen);\n",
    "    ge_QAG4SimulationTracking_pTRecoGenRatio_pTGen->Draw(\"pe\");\n",
    "    ge_QAG4SimulationTracking_pTRecoGenRatio_pTGen->SetTitle(\n",
    "        \"Mean and sigma, p_{T,reco}/p_{T,truth}\");\n",
    "\n",
    "    TGraphErrors *h_ratio_ref = NULL;\n",
    "    if (qa_file_ref) {\n",
    "      TH2 *h_QAG4SimulationTracking_pTRecoGenRatio_pTGen =\n",
    "          (TH2 *)qa_file_ref->GetObjectChecked(prefix + \"pTRecoGenRatio_pTGen\",\n",
    "                                               \"TH2\");\n",
    "      assert(h_QAG4SimulationTracking_pTRecoGenRatio_pTGen);\n",
    "\n",
    "      h_QAG4SimulationTracking_pTRecoGenRatio_pTGen->SetDirectory(nullptr);\n",
    "      h_QAG4SimulationTracking_pTRecoGenRatio_pTGen->Rebin2D(16, 1);\n",
    "\n",
    "      h_ratio_ref = FitProfile(h_QAG4SimulationTracking_pTRecoGenRatio_pTGen);\n",
    "      ge_QAG4SimulationTracking_pTRecoGenRatio_pTGen->Draw(\"pe\");\n",
    "    }\n",
    "\n",
    "    DrawReference(ge_QAG4SimulationTracking_pTRecoGenRatio_pTGen, h_ratio_ref,\n",
    "                  true);\n",
    "  }\n",
    "\n",
    "  //SaveCanvas(c1,\n",
    "  //           TString(qa_file_name_new) + TString(\"_\") + TString(c1->GetName()),\n",
    "  //           true);\n",
    "    \n",
    "  c1->Draw();\n",
    "}"
   ]
  },
  {
   "cell_type": "markdown",
   "metadata": {},
   "source": [
    "# $p_T$ resolution and lineshape"
   ]
  },
  {
   "cell_type": "code",
   "execution_count": 13,
   "metadata": {
    "execution": {
     "iopub.execute_input": "2021-01-20T07:22:49.204889Z",
     "iopub.status.busy": "2021-01-20T07:22:49.203547Z",
     "iopub.status.idle": "2021-01-20T07:22:49.318359Z",
     "shell.execute_reply": "2021-01-20T07:22:49.318817Z"
    }
   },
   "outputs": [
    {
     "name": "stderr",
     "output_type": "stream",
     "text": [
      "Warning in <Fit>: Fit data is empty \n",
      "\n",
      "Thread 9 (Thread 0x7fae64996700 (LWP 64948)):\n",
      "#0  0x00007fae7622fd43 in epoll_wait () from /usr/lib64/libc.so.6\n",
      "#1  0x00007fae6781802c in zmq::epoll_t::loop (this=0x22d3670) at src/epoll.cpp:184\n",
      "#2  0x00007fae6784d0f8 in thread_routine (arg_=0x22d36c8) at src/thread.cpp:395\n",
      "#3  0x00007fae76c09dc5 in start_thread () from /usr/lib64/libpthread.so.0\n",
      "#4  0x00007fae7622f76d in clone () from /usr/lib64/libc.so.6\n",
      "\n",
      "Thread 8 (Thread 0x7fae64195700 (LWP 64949)):\n",
      "#0  0x00007fae7622fd43 in epoll_wait () from /usr/lib64/libc.so.6\n",
      "#1  0x00007fae6781802c in zmq::epoll_t::loop (this=0x23e7850) at src/epoll.cpp:184\n",
      "#2  0x00007fae6784d0f8 in thread_routine (arg_=0x23e78a8) at src/thread.cpp:395\n",
      "#3  0x00007fae76c09dc5 in start_thread () from /usr/lib64/libpthread.so.0\n",
      "#4  0x00007fae7622f76d in clone () from /usr/lib64/libc.so.6\n",
      "\n",
      "Thread 7 (Thread 0x7fae63994700 (LWP 64950)):\n",
      "#0  0x00007fae76c0da82 in pthread_cond_timedwait\n",
      "\n",
      "GLIBC_2.3.2 () from /usr/lib64/libpthread.so.0\n",
      "#1  0x00007fae7720245c in PyCOND_TIMEDWAIT (us=<optimized out>, mut=<optimized out>, cond=<optimized out>) at Python/condvar.h:73\n",
      "#2  take_gil (tstate=0x25a2e40, ceval=<optimized out>) at Python/ceval_gil.h:206\n",
      "#3  PyEval_RestoreThread () at Python/ceval.c:399\n",
      "#4  0x00007fae6f0e91c5 in select_epoll_poll_impl (self=0x7fae64a063f0, maxevents=<optimized out>, timeout_obj=<optimized out>) at /direct/phenix+u/phnxbld/workarea/sPHENIX_SL7.3/gcc-8.3/Python-3.8.0/Modules/selectmodule.c:1559\n",
      "#5  select_epoll_poll (self=0x7fae64a063f0, args=<optimized out>, args\n",
      "entry=0x2923700, nargs=nargs\n",
      "entry=2, kwnames=kwnames\n",
      "entry=0x0) at /direct/phenix+u/phnxbld/workarea/sPHENIX_SL7.3/gcc-8.3/Python-3.8.0/Modules/clinic/selectmodule.c.h:859\n",
      "#6  0x00007fae77186cec in method_vectorcall_FASTCALL_KEYWORDS () at Objects/descrobject.c:371\n",
      "#7  0x00007fae771fb9c0 in _PyObject_Vectorcall (kwnames=0x0, nargsf=<optimized out>, args=0x29236f8, callable=0x7fae6f5276d0) at ./Include/cpython/abstract.h:127\n",
      "#8  call_function (kwnames=0x0, oparg=<optimized out>, pp_stack=<synthetic pointer>, tstate=0x25a2e40) at Python/ceval.c:4987\n",
      "#9  _PyEval_EvalFrameDefault () at Python/ceval.c:3486\n",
      "#10 0x00007fae771fa4f1 in _PyEval_EvalCodeWithName () at Python/ceval.c:4298\n",
      "#11 0x00007fae771810f2 in _PyFunction_Vectorcall.localalias.7 () at Objects/call.c:435\n",
      "#12 0x00007fae771fb9c0 in _PyObject_Vectorcall (kwnames=0x0, nargsf=<optimized out>, args=0x7fae54000f10, callable=0x7fae6f0af790) at ./Include/cpython/abstract.h:127\n",
      "#13 call_function (kwnames=0x0, oparg=<optimized out>, pp_stack=<synthetic pointer>, tstate=0x25a2e40) at Python/ceval.c:4987\n",
      "#14 _PyEval_EvalFrameDefault () at Python/ceval.c:3486\n",
      "#15 0x00007fae7718105a in function_code_fastcall (globals=<optimized out>, nargs=1, args=<optimized out>, co=<optimized out>) at Objects/call.c:283\n",
      "#16 _PyFunction_Vectorcall.localalias.7 () at Objects/call.c:410\n",
      "#17 0x00007fae771fb9c0 in _PyObject_Vectorcall (kwnames=0x0, nargsf=<optimized out>, args=0x7fae6499c580, callable=0x7fae6946c280) at ./Include/cpython/abstract.h:127\n",
      "#18 call_function (kwnames=0x0, oparg=<optimized out>, pp_stack=<synthetic pointer>, tstate=0x25a2e40) at Python/ceval.c:4987\n",
      "#19 _PyEval_EvalFrameDefault () at Python/ceval.c:3486\n",
      "#20 0x00007fae7718105a in function_code_fastcall (globals=<optimized out>, nargs=1, args=<optimized out>, co=<optimized out>) at Objects/call.c:283\n",
      "#21 _PyFunction_Vectorcall.localalias.7 () at Objects/call.c:410\n",
      "#22 0x00007fae771fb9c0 in _PyObject_Vectorcall (kwnames=0x0, nargsf=<optimized out>, args=0x7fae6499c3a0, callable=0x7fae6946a700) at ./Include/cpython/abstract.h:127\n",
      "#23 call_function (kwnames=0x0, oparg=<optimized out>, pp_stack=<synthetic pointer>, tstate=0x25a2e40) at Python/ceval.c:4987\n",
      "#24 _PyEval_EvalFrameDefault () at Python/ceval.c:3486\n",
      "#25 0x00007fae7718105a in function_code_fastcall (globals=<optimized out>, nargs=1, args=<optimized out>, co=<optimized out>) at Objects/call.c:283\n",
      "#26 _PyFunction_Vectorcall.localalias.7 () at Objects/call.c:410\n",
      "#27 0x00007fae771fb9c0 in _PyObject_Vectorcall (kwnames=0x0, nargsf=<optimized out>, args=0x7fae6499aeb8, callable=0x7fae64d8c940) at ./Include/cpython/abstract.h:127\n",
      "#28 call_function (kwnames=0x0, oparg=<optimized out>, pp_stack=<synthetic pointer>, tstate=0x25a2e40) at Python/ceval.c:4987\n",
      "#29 _PyEval_EvalFrameDefault () at Python/ceval.c:3486\n",
      "#30 0x00007fae7718105a in function_code_fastcall (globals=<optimized out>, nargs=1, args=<optimized out>, co=<optimized out>) at Objects/call.c:283\n",
      "#31 _PyFunction_Vectorcall.localalias.7 () at Objects/call.c:410\n",
      "#32 0x00007fae771833f9 in _PyObject_Vectorcall (kwnames=<optimized out>, nargsf=<optimized out>, args=<optimized out>, callable=<optimized out>) at ./Include/cpython/abstract.h:127\n",
      "#33 method_vectorcall () at Objects/classobject.c:67\n",
      "#34 0x00007fae7718217d in PyVectorcall_Call () at Objects/call.c:199\n",
      "#35 0x00007fae771fd3dc in do_call_core (kwdict=0x7fae64a02a40, callargs=0x7fae777be040, func=0x7fae649f5640, tstate=<optimized out>) at Python/ceval.c:5034\n",
      "#36 _PyEval_EvalFrameDefault () at Python/ceval.c:3559\n",
      "#37 0x00007fae7718105a in function_code_fastcall (globals=<optimized out>, nargs=1, args=<optimized out>, co=<optimized out>) at Objects/call.c:283\n",
      "#38 _PyFunction_Vectorcall.localalias.7 () at Objects/call.c:410\n",
      "#39 0x00007fae771fb9c0 in _PyObject_Vectorcall (kwnames=0x0, nargsf=<optimized out>, args=0x7fae649987b8, callable=0x7fae6f526670) at ./Include/cpython/abstract.h:127\n",
      "#40 call_function (kwnames=0x0, oparg=<optimized out>, pp_stack=<synthetic pointer>, tstate=0x25a2e40) at Python/ceval.c:4987\n",
      "#41 _PyEval_EvalFrameDefault () at Python/ceval.c:3486\n",
      "#42 0x00007fae7718105a in function_code_fastcall (globals=<optimized out>, nargs=1, args=<optimized out>, co=<optimized out>) at Objects/call.c:283\n",
      "#43 _PyFunction_Vectorcall.localalias.7 () at Objects/call.c:410\n",
      "#44 0x00007fae771fb9c0 in _PyObject_Vectorcall (kwnames=0x0, nargsf=<optimized out>, args=0x7fae6499d538, callable=0x7fae6f526940) at ./Include/cpython/abstract.h:127\n",
      "#45 call_function (kwnames=0x0, oparg=<optimized out>, pp_stack=<synthetic pointer>, tstate=0x25a2e40) at Python/ceval.c:4987\n",
      "#46 _PyEval_EvalFrameDefault () at Python/ceval.c:3486\n",
      "#47 0x00007fae7718105a in function_code_fastcall (globals=<optimized out>, nargs=1, args=<optimized out>, co=<optimized out>) at Objects/call.c:283\n",
      "#48 _PyFunction_Vectorcall.localalias.7 () at Objects/call.c:410\n",
      "#49 0x00007fae771833f9 in _PyObject_Vectorcall (kwnames=<optimized out>, nargsf=<optimized out>, args=<optimized out>, callable=<optimized out>) at ./Include/cpython/abstract.h:127\n",
      "#50 method_vectorcall () at Objects/classobject.c:67\n",
      "#51 0x00007fae7718217d in PyVectorcall_Call () at Objects/call.c:199\n",
      "#52 0x00007fae7729e987 in t_bootstrap () at ./Modules/_threadmodule.c:1002\n",
      "#53 0x00007fae772877d4 in pythread_wrapper (arg=<optimized out>) at Python/thread_pthread.h:232\n",
      "#54 0x00007fae76c09dc5 in start_thread () from /usr/lib64/libpthread.so.0\n",
      "#55 0x00007fae7622f76d in clone () from /usr/lib64/libc.so.6\n",
      "\n",
      "Thread 6 (Thread 0x7fae63193700 (LWP 64951)):\n",
      "#0  0x00007fae76224e2d in poll () from /usr/lib64/libc.so.6\n",
      "#1  0x00007fae6785ab94 in zmq_poll () at src/zmq.cpp:987\n",
      "#2  0x00007fae6782efe3 in zmq::proxy (frontend_=0x7fae58004db0, backend_=0x7fae58004db0, capture_=capture_\n",
      "entry=0x0, control_=control_\n",
      "entry=0x0) at src/proxy.cpp:573\n",
      "#3  0x00007fae6785a921 in zmq_proxy (frontend_=<optimized out>, backend_=<optimized out>, capture_=capture_\n",
      "entry=0x0) at src/zmq.cpp:1459\n",
      "#4  0x00007fae65d4ee43 in __pyx_pf_3zmq_7backend_6cython_7_device_2proxy (__pyx_self=<optimized out>, __pyx_v_frontend=<optimized out>, __pyx_v_backend=<optimized out>, __pyx_v_capture=<optimized out>) at zmq/backend/cython/_device.c:2129\n",
      "#5  __pyx_pw_3zmq_7backend_6cython_7_device_3proxy (__pyx_self=<optimized out>, __pyx_args=<optimized out>, __pyx_kwds=<optimized out>) at zmq/backend/cython/_device.c:2014\n",
      "#6  0x00007fae65d4e275 in __Pyx_PyObject_Call (kw=0x0, arg=0x7fae64a4e0c0, func=0x7fae6810d6c0) at zmq/backend/cython/_device.c:3647\n",
      "#7  __pyx_pf_3zmq_7backend_6cython_7_device_device (__pyx_self=<optimized out>, __pyx_v_device_type=<optimized out>, __pyx_v_backend=<optimized out>, __pyx_v_frontend=<optimized out>) at zmq/backend/cython/_device.c:1696\n",
      "#8  __pyx_pw_3zmq_7backend_6cython_7_device_1device (__pyx_self=<optimized out>, __pyx_args=<optimized out>, __pyx_kwds=<optimized out>) at zmq/backend/cython/_device.c:1607\n",
      "#9  0x00007fae771808e4 in _PyObject_MakeTpCall () at Objects/call.c:159\n",
      "#10 0x00007fae771fffd4 in _PyObject_Vectorcall (kwnames=0x0, nargsf=<optimized out>, args=0x7fae6499e798, callable=<optimized out>) at ./Include/cpython/abstract.h:125\n",
      "#11 _PyObject_Vectorcall (kwnames=0x0, nargsf=<optimized out>, args=0x7fae6499e798, callable=<optimized out>) at ./Include/cpython/abstract.h:115\n",
      "#12 call_function (kwnames=0x0, oparg=<optimized out>, pp_stack=<synthetic pointer>, tstate=0x25b9480) at Python/ceval.c:4987\n",
      "#13 _PyEval_EvalFrameDefault () at Python/ceval.c:3469\n",
      "#14 0x00007fae7718105a in function_code_fastcall (globals=<optimized out>, nargs=1, args=<optimized out>, co=<optimized out>) at Objects/call.c:283\n",
      "#15 _PyFunction_Vectorcall.localalias.7 () at Objects/call.c:410\n",
      "#16 0x00007fae771fb9c0 in _PyObject_Vectorcall (kwnames=0x0, nargsf=<optimized out>, args=0x7fae64998bb8, callable=0x7fae64a66550) at ./Include/cpython/abstract.h:127\n",
      "#17 call_function (kwnames=0x0, oparg=<optimized out>, pp_stack=<synthetic pointer>, tstate=0x25b9480) at Python/ceval.c:4987\n",
      "#18 _PyEval_EvalFrameDefault () at Python/ceval.c:3486\n",
      "#19 0x00007fae7718105a in function_code_fastcall (globals=<optimized out>, nargs=1, args=<optimized out>, co=<optimized out>) at Objects/call.c:283\n",
      "#20 _PyFunction_Vectorcall.localalias.7 () at Objects/call.c:410\n",
      "#21 0x00007fae771fb9c0 in _PyObject_Vectorcall (kwnames=0x0, nargsf=<optimized out>, args=0x7fae6499dfb8, callable=0x7fae6f526940) at ./Include/cpython/abstract.h:127\n",
      "#22 call_function (kwnames=0x0, oparg=<optimized out>, pp_stack=<synthetic pointer>, tstate=0x25b9480) at Python/ceval.c:4987\n",
      "#23 _PyEval_EvalFrameDefault () at Python/ceval.c:3486\n",
      "#24 0x00007fae7718105a in function_code_fastcall (globals=<optimized out>, nargs=1, args=<optimized out>, co=<optimized out>) at Objects/call.c:283\n",
      "#25 _PyFunction_Vectorcall.localalias.7 () at Objects/call.c:410\n",
      "#26 0x00007fae771833f9 in _PyObject_Vectorcall (kwnames=<optimized out>, nargsf=<optimized out>, args=<optimized out>, callable=<optimized out>) at ./Include/cpython/abstract.h:127\n",
      "#27 method_vectorcall () at Objects/classobject.c:67\n",
      "#28 0x00007fae7718217d in PyVectorcall_Call () at Objects/call.c:199\n",
      "#29 0x00007fae7729e987 in t_bootstrap () at ./Modules/_threadmodule.c:1002\n",
      "#30 0x00007fae772877d4 in pythread_wrapper (arg=<optimized out>) at Python/thread_pthread.h:232\n",
      "#31 0x00007fae76c09dc5 in start_thread () from /usr/lib64/libpthread.so.0\n",
      "#32 0x00007fae7622f76d in clone () from /usr/lib64/libc.so.6\n",
      "\n",
      "Thread 5 (Thread 0x7fae62992700 (LWP 64952)):\n",
      "#0  0x00007fae7622fd43 in epoll_wait () from /usr/lib64/libc.so.6\n",
      "#1  0x00007fae6781802c in zmq::epoll_t::loop (this=0x7fae580040f0) at src/epoll.cpp:184\n",
      "#2  0x00007fae6784d0f8 in thread_routine (arg_=0x7fae58004148) at src/thread.cpp:395\n",
      "#3  0x00007fae76c09dc5 in start_thread () from /usr/lib64/libpthread.so.0\n",
      "#4  0x00007fae7622f76d in clone () from /usr/lib64/libc.so.6\n",
      "\n",
      "Thread 4 (Thread 0x7fae62191700 (LWP 64953)):\n",
      "#0  0x00007fae7622fd43 in epoll_wait () from /usr/lib64/libc.so.6\n",
      "#1  0x00007fae6781802c in zmq::epoll_t::loop (this=0x7fae58004a30) at src/epoll.cpp:184\n",
      "#2  0x00007fae6784d0f8 in thread_routine (arg_=0x7fae58004a88) at src/thread.cpp:395\n",
      "#3  0x00007fae76c09dc5 in start_thread () from /usr/lib64/libpthread.so.0\n",
      "#4  0x00007fae7622f76d in clone () from /usr/lib64/libc.so.6\n",
      "\n",
      "Thread 3 (Thread 0x7fae61950700 (LWP 64954)):\n",
      "#0  0x00007fae76226bd3 in select () from /usr/lib64/libc.so.6\n",
      "#1  0x00007fae7729df4e in pysleep (secs=<optimized out>) at ./Modules/timemodule.c:1849\n",
      "#2  time_sleep () at ./Modules/timemodule.c:338\n",
      "#3  0x00007fae771ae06f in cfunction_vectorcall_O () at Objects/methodobject.c:481\n",
      "#4  0x00007fae771ffa89 in _PyObject_Vectorcall (kwnames=0x0, nargsf=<optimized out>, args=0x7fae6196c3c0, callable=0x7fae77776090) at ./Include/cpython/abstract.h:127\n",
      "#5  call_function (kwnames=0x0, oparg=<optimized out>, pp_stack=<synthetic pointer>, tstate=0x26ce5a0) at Python/ceval.c:4987\n",
      "#6  _PyEval_EvalFrameDefault () at Python/ceval.c:3469\n",
      "#7  0x00007fae7718105a in function_code_fastcall (globals=<optimized out>, nargs=1, args=<optimized out>, co=<optimized out>) at Objects/call.c:283\n",
      "#8  _PyFunction_Vectorcall.localalias.7 () at Objects/call.c:410\n",
      "#9  0x00007fae771fb9c0 in _PyObject_Vectorcall (kwnames=0x0, nargsf=<optimized out>, args=0x7fae6196d1b8, callable=0x7fae649dce50) at ./Include/cpython/abstract.h:127\n",
      "#10 call_function (kwnames=0x0, oparg=<optimized out>, pp_stack=<synthetic pointer>, tstate=0x26ce5a0) at Python/ceval.c:4987\n",
      "#11 _PyEval_EvalFrameDefault () at Python/ceval.c:3486\n",
      "#12 0x00007fae7718105a in function_code_fastcall (globals=<optimized out>, nargs=1, args=<optimized out>, co=<optimized out>) at Objects/call.c:283\n",
      "#13 _PyFunction_Vectorcall.localalias.7 () at Objects/call.c:410\n",
      "#14 0x00007fae771fb9c0 in _PyObject_Vectorcall (kwnames=0x0, nargsf=<optimized out>, args=0x7fae61964c38, callable=0x7fae6f526940) at ./Include/cpython/abstract.h:127\n",
      "#15 call_function (kwnames=0x0, oparg=<optimized out>, pp_stack=<synthetic pointer>, tstate=0x26ce5a0) at Python/ceval.c:4987\n",
      "#16 _PyEval_EvalFrameDefault () at Python/ceval.c:3486\n",
      "#17 0x00007fae7718105a in function_code_fastcall (globals=<optimized out>, nargs=1, args=<optimized out>, co=<optimized out>) at Objects/call.c:283\n",
      "#18 _PyFunction_Vectorcall.localalias.7 () at Objects/call.c:410\n",
      "#19 0x00007fae771833f9 in _PyObject_Vectorcall (kwnames=<optimized out>, nargsf=<optimized out>, args=<optimized out>, callable=<optimized out>) at ./Include/cpython/abstract.h:127\n",
      "#20 method_vectorcall () at Objects/classobject.c:67\n",
      "#21 0x00007fae7718217d in PyVectorcall_Call () at Objects/call.c:199\n",
      "#22 0x00007fae7729e987 in t_bootstrap () at ./Modules/_threadmodule.c:1002\n",
      "#23 0x00007fae772877d4 in pythread_wrapper (arg=<optimized out>) at Python/thread_pthread.h:232\n",
      "#24 0x00007fae76c09dc5 in start_thread () from /usr/lib64/libpthread.so.0\n",
      "#25 0x00007fae7622f76d in clone () from /usr/lib64/libc.so.6\n",
      "\n",
      "Thread 2 (Thread 0x7fae35ddc700 (LWP 64988)):\n",
      "#0  0x00007fae76c0da82 in pthread_cond_timedwait\n",
      "\n",
      "GLIBC_2.3.2 () from /usr/lib64/libpthread.so.0\n",
      "#1  0x00007fae7720245c in PyCOND_TIMEDWAIT (us=<optimized out>, mut=<optimized out>, cond=<optimized out>) at Python/condvar.h:73\n",
      "#2  take_gil (tstate=0x7364080, ceval=<optimized out>) at Python/ceval_gil.h:206\n",
      "#3  PyEval_RestoreThread () at Python/ceval.c:399\n",
      "#4  0x00007fae7723f1cb in acquire_timed (timeout=-1000000000, lock=0x7fae30000f50) at ./Modules/_threadmodule.c:64\n",
      "#5  lock_PyThread_acquire_lock () at ./Modules/_threadmodule.c:146\n",
      "#6  0x00007fae771865a7 in method_vectorcall_VARARGS_KEYWORDS () at Objects/descrobject.c:332\n",
      "#7  0x00007fae771fb9c0 in _PyObject_Vectorcall (kwnames=0x0, nargsf=<optimized out>, args=0x8c33128, callable=0x7fae777a7c70) at ./Include/cpython/abstract.h:127\n",
      "#8  call_function (kwnames=0x0, oparg=<optimized out>, pp_stack=<synthetic pointer>, tstate=0x7364080) at Python/ceval.c:4987\n",
      "#9  _PyEval_EvalFrameDefault () at Python/ceval.c:3486\n",
      "#10 0x00007fae771fa4f1 in _PyEval_EvalCodeWithName () at Python/ceval.c:4298\n",
      "#11 0x00007fae771810f2 in _PyFunction_Vectorcall.localalias.7 () at Objects/call.c:435\n",
      "#12 0x00007fae771fb9c0 in _PyObject_Vectorcall (kwnames=0x0, nargsf=<optimized out>, args=0x7fae3405f1e8, callable=0x7fae6f524310) at ./Include/cpython/abstract.h:127\n",
      "#13 call_function (kwnames=0x0, oparg=<optimized out>, pp_stack=<synthetic pointer>, tstate=0x7364080) at Python/ceval.c:4987\n",
      "#14 _PyEval_EvalFrameDefault () at Python/ceval.c:3486\n",
      "#15 0x00007fae771fa4f1 in _PyEval_EvalCodeWithName () at Python/ceval.c:4298\n",
      "#16 0x00007fae771810f2 in _PyFunction_Vectorcall.localalias.7 () at Objects/call.c:435\n",
      "#17 0x00007fae771fb9c0 in _PyObject_Vectorcall (kwnames=0x0, nargsf=<optimized out>, args=0x7fae36258f50, callable=0x7fae6887fe50) at ./Include/cpython/abstract.h:127\n",
      "#18 call_function (kwnames=0x0, oparg=<optimized out>, pp_stack=<synthetic pointer>, tstate=0x7364080) at Python/ceval.c:4987\n",
      "#19 _PyEval_EvalFrameDefault () at Python/ceval.c:3486\n",
      "#20 0x00007fae7718105a in function_code_fastcall (globals=<optimized out>, nargs=1, args=<optimized out>, co=<optimized out>) at Objects/call.c:283\n",
      "#21 _PyFunction_Vectorcall.localalias.7 () at Objects/call.c:410\n",
      "#22 0x00007fae771fb9c0 in _PyObject_Vectorcall (kwnames=0x0, nargsf=<optimized out>, args=0x7fae3601e3b8, callable=0x7fae3627e940) at ./Include/cpython/abstract.h:127\n",
      "#23 call_function (kwnames=0x0, oparg=<optimized out>, pp_stack=<synthetic pointer>, tstate=0x7364080) at Python/ceval.c:4987\n",
      "#24 _PyEval_EvalFrameDefault () at Python/ceval.c:3486\n",
      "#25 0x00007fae7718105a in function_code_fastcall (globals=<optimized out>, nargs=1, args=<optimized out>, co=<optimized out>) at Objects/call.c:283\n",
      "#26 _PyFunction_Vectorcall.localalias.7 () at Objects/call.c:410\n",
      "#27 0x00007fae771fb9c0 in _PyObject_Vectorcall (kwnames=0x0, nargsf=<optimized out>, args=0x7fae6114dfb8, callable=0x7fae6f526940) at ./Include/cpython/abstract.h:127\n",
      "#28 call_function (kwnames=0x0, oparg=<optimized out>, pp_stack=<synthetic pointer>, tstate=0x7364080) at Python/ceval.c:4987\n",
      "#29 _PyEval_EvalFrameDefault () at Python/ceval.c:3486\n",
      "#30 0x00007fae7718105a in function_code_fastcall (globals=<optimized out>, nargs=1, args=<optimized out>, co=<optimized out>) at Objects/call.c:283\n",
      "#31 _PyFunction_Vectorcall.localalias.7 () at Objects/call.c:410\n",
      "#32 0x00007fae771833f9 in _PyObject_Vectorcall (kwnames=<optimized out>, nargsf=<optimized out>, args=<optimized out>, callable=<optimized out>) at ./Include/cpython/abstract.h:127\n",
      "#33 method_vectorcall () at Objects/classobject.c:67\n",
      "#34 0x00007fae7718217d in PyVectorcall_Call () at Objects/call.c:199\n",
      "#35 0x00007fae7729e987 in t_bootstrap () at ./Modules/_threadmodule.c:1002\n",
      "#36 0x00007fae772877d4 in pythread_wrapper (arg=<optimized out>) at Python/thread_pthread.h:232\n",
      "#37 0x00007fae76c09dc5 in start_thread () from /usr/lib64/libpthread.so.0\n",
      "#38 0x00007fae7622f76d in clone () from /usr/lib64/libc.so.6\n",
      "\n",
      "Thread 1 (Thread 0x7fae77805740 (LWP 64925)):\n",
      "#0  0x00007fae761f62c9 in waitpid () from /usr/lib64/libc.so.6\n",
      "#1  0x00007fae76179c72 in do_system () from /usr/lib64/libc.so.6\n",
      "#2  0x00007fae7617a021 in system () from /usr/lib64/libc.so.6\n",
      "#3  0x00007fae6080e3c3 in Exec (shellcmd=<optimized out>, this=0x280aea0) at /phenix/u/phnxbld/workarea/sPHENIX_SL7.3/gcc-8.3/root-6.22.02/root-6.22.02/core/unix/src/TUnixSystem.cxx:2117\n",
      "#4  TUnixSystem::StackTrace() () at /phenix/u/phnxbld/workarea/sPHENIX_SL7.3/gcc-8.3/root-6.22.02/root-6.22.02/core/unix/src/TUnixSystem.cxx:2408\n",
      "#5  0x00007fae47b19288 in cling::MultiplexInterpreterCallbacks::PrintStackTrace() () from /cvmfs/sphenix.sdcc.bnl.gov/gcc-8.3/opt/sphenix/core/root-6.22.02/lib/libCling.so\n",
      "#6  0x00007fae47b18baa in cling_runtime_internal_throwIfInvalidPointer () from /cvmfs/sphenix.sdcc.bnl.gov/gcc-8.3/opt/sphenix/core/root-6.22.02/lib/libCling.so\n",
      "#7  0x00007fae2d5cd7cc in ?? ()\n",
      "#8  0x000000000ad228c8 in ?? ()\n",
      "#9  0x0000000000000054 in ?? ()\n",
      "#10 0x000000000ad1d008 in ?? ()\n",
      "#11 0x0000000000000164 in ?? ()\n",
      "#12 0x000000000ad15ca0 in ?? ()\n",
      "#13 0x00007ffe8854bb48 in ?? ()\n",
      "#14 0x00007ffe8854bb48 in ?? ()\n",
      "#15 0x000000000ab49bb0 in ?? ()\n",
      "#16 0x000000000ab49bf0 in ?? ()\n",
      "#17 0x000000000ab49bf0 in ?? ()\n",
      "#18 0x000000000ab49bb0 in ?? ()\n",
      "#19 0x000000000ab49bb0 in ?? ()\n",
      "#20 0x000000000ab49bb0 in ?? ()\n",
      "#21 0x0000001c00000160 in ?? ()\n",
      "#22 0x00007fae76189920 in ?? () from /usr/lib64/libc.so.6\n",
      "#23 0x3fd94f36ca3cf47f in ?? ()\n",
      "#24 0x0000000000000000 in ?? ()\n",
      "Error in <HandleInterpreterException>: Trying to dereference null pointer or trying to call routine taking non-null arguments.\n",
      "Execution of your code was aborted.\n",
      "input_line_112:81:13: warning: null passed to a callee that requires a non-null argument [-Wnonnull]\n",
      "    sigma = fit->GetParameter(2);\n",
      "            ^~~\n"
     ]
    }
   ],
   "source": [
    "%%cpp\n",
    "\n",
    "{\n",
    "    const char *hist_name_prefix = \"QAG4SimulationTracking\";\n",
    "    TString prefix = TString(\"h_\") + hist_name_prefix + TString(\"_\");\n",
    "    \n",
    "  // obtain normalization\n",
    "  double Nevent_new = 1;\n",
    "  double Nevent_ref = 1;\n",
    "    \n",
    "    \n",
    "  TH2 *h_new = (TH2 *) qa_file_new->GetObjectChecked(\n",
    "      prefix + TString(\"pTRecoGenRatio_pTGen\"), \"TH2\");\n",
    "  assert(h_new);\n",
    "\n",
    "  //  h_new->Rebin(1, 2);\n",
    "  //h_new->Sumw2();\n",
    "  //  h_new->Scale(1. / Nevent_new);\n",
    "\n",
    "  TH2 *h_ref = NULL;\n",
    "  if (qa_file_ref)\n",
    "  {\n",
    "    h_ref = (TH2 *) qa_file_ref->GetObjectChecked(\n",
    "        prefix + TString(\"pTRecoGenRatio_pTGen\"), \"TH2\");\n",
    "    assert(h_ref);\n",
    "\n",
    "    //    h_ref->Rebin(1, 2);\n",
    "    //h_ref->Sumw2();\n",
    "    h_ref->Scale(Nevent_new / Nevent_ref);\n",
    "  }\n",
    "\n",
    "  TCanvas *c1 = new TCanvas(TString(\"QA_Draw_Tracking_pTRatio\") + TString(\"_\") + hist_name_prefix,\n",
    "                            TString(\"QA_Draw_Tracking_pTRatio\") + TString(\"_\") + hist_name_prefix,\n",
    "                            1800, 1000);\n",
    "  c1->Divide(4, 2);\n",
    "  int idx = 1;\n",
    "  TPad *p;\n",
    "\n",
    "  vector<pair<double, double>> gpt_ranges{\n",
    "      {0, 1},\n",
    "      {1, 5},\n",
    "      {5, 10},\n",
    "      {10, 20},\n",
    "      {20, 30},\n",
    "      {30, 40},\n",
    "      {40, 45},\n",
    "      {45, 50}};\n",
    "  TF1 *f1 = nullptr;\n",
    "  TF1 *fit = nullptr;\n",
    "  Double_t sigma = 0;\n",
    "  Double_t sigma_unc = 0;\n",
    "  char resstr[500];\n",
    "  TLatex *res = nullptr;\n",
    "  for (auto pt_range : gpt_ranges)\n",
    "  {\n",
    "    //cout << __PRETTY_FUNCTION__ << \" process \" << pt_range.first << \" - \" << pt_range.second << \" GeV/c\";\n",
    "\n",
    "    p = (TPad *) c1->cd(idx++);\n",
    "    c1->Update();\n",
    "    p->SetLogy();\n",
    "\n",
    "    const double epsilon = 1e-6;\n",
    "    const int bin_start = h_new->GetXaxis()->FindBin(pt_range.first + epsilon);\n",
    "    const int bin_end = h_new->GetXaxis()->FindBin(pt_range.second - epsilon);\n",
    "\n",
    "    TH1 *h_proj_new = h_new->ProjectionY(\n",
    "        TString::Format(\n",
    "            \"%s_New_ProjX_%d_%d\",\n",
    "            h_new->GetName(), bin_start, bin_end),\n",
    "        bin_start, bin_end);\n",
    "\n",
    "    h_proj_new->GetXaxis()->SetRangeUser(.7, 1.3);\n",
    "    h_proj_new->SetTitle(TString(hist_name_prefix) + TString::Format(\n",
    "                                                         \": %.1f - %.1f GeV/c\", pt_range.first, pt_range.second));\n",
    "    h_proj_new->GetXaxis()->SetTitle(TString::Format(\n",
    "        \"Reco p_{T}/Truth p_{T}\"));\n",
    "\n",
    "    f1 = new TF1(\"f1\", \"gaus\", -.85, 1.15);\n",
    "    h_proj_new->Fit(f1, \"mq\");\n",
    "    fit = h_proj_new->GetFunction(\"f1\");\n",
    "    sigma = fit->GetParameter(2);\n",
    "    sigma_unc = fit->GetParError(2);\n",
    "\n",
    "    TH1 *h_proj_ref = nullptr;\n",
    "    if (h_ref)\n",
    "      h_proj_ref =\n",
    "          h_ref->ProjectionY(\n",
    "              TString::Format(\n",
    "                  \"%s_Ref_ProjX_%d_%d\",\n",
    "                  h_new->GetName(), bin_start, bin_end),\n",
    "              bin_start, bin_end);\n",
    "\n",
    "    DrawReference(h_proj_new, h_proj_ref);\n",
    "    sprintf(resstr, \"#sigma = %.5f #pm %.5f\", sigma, sigma_unc);\n",
    "    res = new TLatex(0.325, 0.825, resstr);\n",
    "    res->SetNDC();\n",
    "    res->SetTextSize(0.05);\n",
    "    res->SetTextAlign(13);\n",
    "    res->Draw();\n",
    "  }\n",
    "\n",
    " // SaveCanvas(c1, TString(qa_file_name_new) + TString(\"_\") + TString(c1->GetName()), true);\n",
    "    c1->Draw();\n",
    "}"
   ]
  },
  {
   "cell_type": "markdown",
   "metadata": {},
   "source": [
    "## Match reco track to truth track\n",
    "\n",
    "Probability of truth track matched with each reco track, that reflect a flavor of track purity. \n",
    "\n",
    "Please note the efficiency only require truth-reco matching in unique pairs, no cut on the reco quality is required, as defined in [`QAG4SimulationTracking::process_event(PHCompositeNode * )`](https://sphenix-collaboration.github.io/doxygen/de/dbf/classQAG4SimulationTracking.html#ac2aeab5238fcf828f70c61b4976b57fe)"
   ]
  },
  {
   "cell_type": "code",
   "execution_count": 14,
   "metadata": {
    "execution": {
     "iopub.execute_input": "2021-01-20T07:22:49.657913Z",
     "iopub.status.busy": "2021-01-20T07:22:49.656744Z",
     "iopub.status.idle": "2021-01-20T07:22:49.964584Z",
     "shell.execute_reply": "2021-01-20T07:22:49.965016Z"
    }
   },
   "outputs": [
    {
     "data": {
      "image/png": "[encoded data removed]",
      "text/plain": [
       "<IPython.core.display.Image object>"
      ]
     },
     "metadata": {},
     "output_type": "display_data"
    }
   ],
   "source": [
    "%%cpp\n",
    "\n",
    "{\n",
    "const char *hist_name_prefix = \"QAG4SimulationTracking\";\n",
    "    TString prefix = TString(\"h_\") + hist_name_prefix + TString(\"_\");\n",
    "    \n",
    "    \n",
    "  // obtain normalization\n",
    "  double Nevent_new = 1;\n",
    "  double Nevent_ref = 1;\n",
    "\n",
    "  if (qa_file_new)\n",
    "  {\n",
    "    //cout << \"Open new QA file \" << qa_file_new->GetName() << endl;\n",
    "\n",
    "    TH1 *h_norm = (TH1 *) qa_file_new->GetObjectChecked(\n",
    "        prefix + TString(\"Normalization\"), \"TH1\");\n",
    "    assert(h_norm);\n",
    "\n",
    "    Nevent_new = h_norm->GetBinContent(h_norm->GetXaxis()->FindBin(\"Event\"));\n",
    "  }\n",
    "  if (qa_file_ref)\n",
    "  {\n",
    "   // cout << \"Open ref QA file \" << qa_file_ref->GetName() << endl;\n",
    "    TH1 *h_norm = (TH1 *) qa_file_ref->GetObjectChecked(\n",
    "        prefix + TString(\"Normalization\"), \"TH1\");\n",
    "    assert(h_norm);\n",
    "\n",
    "    Nevent_ref = h_norm->GetBinContent(h_norm->GetXaxis()->FindBin(\"Event\"));\n",
    "  }\n",
    "    \n",
    "    \n",
    "  TCanvas *c1 = new TCanvas(TString(\"QA_Draw_Tracking_RecoTruthMatching\") +\n",
    "                                TString(\"_\") + hist_name_prefix,\n",
    "                            TString(\"QA_Draw_Tracking_RecoTruthMatching\") +\n",
    "                                TString(\"_\") + hist_name_prefix,\n",
    "                            1800, 1000);\n",
    "  c1->Divide(2, 1);\n",
    "  int idx = 1;\n",
    "  TPad *p;\n",
    "\n",
    "  {\n",
    "    static const int nrebin = 5;\n",
    "\n",
    "    p = (TPad *) c1->cd(idx++);\n",
    "    c1->Update();\n",
    "    p->SetLogx();\n",
    "    p->SetGridy();\n",
    "\n",
    "    TH1 *h_pass =\n",
    "        (TH1 *) qa_file_new->GetObjectChecked(prefix + \"nGen_pTReco\", \"TH1\");\n",
    "    TH1 *h_norm =\n",
    "        (TH1 *) qa_file_new->GetObjectChecked(prefix + \"nReco_pTReco\", \"TH1\");\n",
    "    assert(h_norm);\n",
    "    assert(h_pass);\n",
    "      \n",
    "      h_norm->SetDirectory(nullptr);\n",
    "      h_pass->SetDirectory(nullptr);\n",
    "\n",
    "    h_norm->Rebin(nrebin);\n",
    "    h_pass->Rebin(nrebin);\n",
    "\n",
    "    TH1 *h_ratio = GetBinominalRatio(h_pass, h_norm);\n",
    "\n",
    "    //    h_ratio->GetXaxis()->SetRangeUser(min_Et, max_Et);\n",
    "    h_ratio->GetYaxis()->SetTitle(\"Tracking Purity\");\n",
    "    h_ratio->GetYaxis()->SetRangeUser(-0, 1.1);\n",
    "\n",
    "    TH1 *h_ratio_ref = NULL;\n",
    "    if (qa_file_ref)\n",
    "    {\n",
    "      TH1 *h_pass =\n",
    "          (TH1 *) qa_file_ref->GetObjectChecked(prefix + \"nGen_pTReco\", \"TH1\");\n",
    "      TH1 *h_norm =\n",
    "          (TH1 *) qa_file_ref->GetObjectChecked(prefix + \"nReco_pTReco\", \"TH1\");\n",
    "      assert(h_norm);\n",
    "      assert(h_pass);\n",
    "      h_norm->SetDirectory(nullptr);\n",
    "      h_pass->SetDirectory(nullptr);\n",
    "      h_norm->Rebin(nrebin);\n",
    "      h_pass->Rebin(nrebin);\n",
    "      h_ratio_ref = GetBinominalRatio(h_pass, h_norm);\n",
    "    }\n",
    "\n",
    "    h_ratio->SetTitle(\"Tracking Purity (matched truth-reco pairs)\");\n",
    "\n",
    "    DrawReference(h_ratio, h_ratio_ref, false);\n",
    "  }\n",
    "\n",
    "  {\n",
    "    p = (TPad *) c1->cd(idx++);\n",
    "    c1->Update();\n",
    "    //    p->SetLogx();\n",
    "    TH1 *frame = p->DrawFrame(0, .9, 50, 1.1,\n",
    "                              \"Mean and sigma p_{Tmatched}/p_{Treco};Reco p_{T} [GeV/c];<p_{T,matched}/p_{T,reco}> #pm #sigma(p_{T,matched}/p_{T,reco})\");\n",
    "    // gPad->SetLeftMargin(.2);\n",
    "    gPad->SetTopMargin(-1);\n",
    "    frame->GetYaxis()->SetTitleOffset(1.7);\n",
    "    // TLine *l = new TLine(0, 1, 50, 1);\n",
    "    // l->SetLineColor(kGray);\n",
    "    // l->Draw();\n",
    "    HorizontalLine(gPad, 1)->Draw();\n",
    "\n",
    "    TH2 *h_QAG4SimulationTracking_pTRecoTruthMatchedRatio_pTReco =\n",
    "        (TH2 *) qa_file_new->GetObjectChecked(\n",
    "            prefix + \"pTRecoTruthMatchedRatio_pTReco\", \"TH2\");\n",
    "    assert(h_QAG4SimulationTracking_pTRecoTruthMatchedRatio_pTReco);\n",
    "\n",
    "      h_QAG4SimulationTracking_pTRecoTruthMatchedRatio_pTReco->SetDirectory(nullptr);\n",
    "    h_QAG4SimulationTracking_pTRecoTruthMatchedRatio_pTReco->Rebin2D(16, 1);\n",
    "\n",
    "    TGraphErrors *ge_QAG4SimulationTracking_pTRecoTruthMatchedRatio_pTReco =\n",
    "        FitProfile(h_QAG4SimulationTracking_pTRecoTruthMatchedRatio_pTReco);\n",
    "    ge_QAG4SimulationTracking_pTRecoTruthMatchedRatio_pTReco->Draw(\"pe\");\n",
    "    ge_QAG4SimulationTracking_pTRecoTruthMatchedRatio_pTReco->SetTitle(\n",
    "        \"Mean and sigma p_{Tmatched}/p_{Treco}\");\n",
    "\n",
    "    TGraphErrors *h_ratio_ref = NULL;\n",
    "    if (qa_file_ref)\n",
    "    {\n",
    "      TH2 *h_QAG4SimulationTracking_pTRecoTruthMatchedRatio_pTReco =\n",
    "          (TH2 *) qa_file_ref->GetObjectChecked(\n",
    "              prefix + \"pTRecoTruthMatchedRatio_pTReco\", \"TH2\");\n",
    "      assert(h_QAG4SimulationTracking_pTRecoTruthMatchedRatio_pTReco);\n",
    "\n",
    "      h_QAG4SimulationTracking_pTRecoTruthMatchedRatio_pTReco->SetDirectory(nullptr);\n",
    "      h_QAG4SimulationTracking_pTRecoTruthMatchedRatio_pTReco->Rebin2D(16, 1);\n",
    "\n",
    "      h_ratio_ref =\n",
    "          FitProfile(h_QAG4SimulationTracking_pTRecoTruthMatchedRatio_pTReco);\n",
    "      ge_QAG4SimulationTracking_pTRecoTruthMatchedRatio_pTReco->Draw(\"pe\");\n",
    "    }\n",
    "\n",
    "    DrawReference(ge_QAG4SimulationTracking_pTRecoTruthMatchedRatio_pTReco,\n",
    "                  h_ratio_ref, true);\n",
    "  }\n",
    "\n",
    "    c1->Draw();\n",
    "}"
   ]
  },
  {
   "cell_type": "markdown",
   "metadata": {},
   "source": [
    "# Tracker hit checks\n",
    "\n",
    "Hits per tracker and layer"
   ]
  },
  {
   "cell_type": "markdown",
   "metadata": {},
   "source": [
    "## Number of clusters per tracker"
   ]
  },
  {
   "cell_type": "code",
   "execution_count": 15,
   "metadata": {
    "execution": {
     "iopub.execute_input": "2021-01-20T07:22:50.220093Z",
     "iopub.status.busy": "2021-01-20T07:22:50.218753Z",
     "iopub.status.idle": "2021-01-20T07:22:50.669187Z",
     "shell.execute_reply": "2021-01-20T07:22:50.669667Z"
    }
   },
   "outputs": [
    {
     "data": {
      "image/png": "[encoded data removed]",
      "text/plain": [
       "<IPython.core.display.Image object>"
      ]
     },
     "metadata": {},
     "output_type": "display_data"
    }
   ],
   "source": [
    "%%cpp\n",
    "{\n",
    "    const char *hist_name_prefix = \"QAG4SimulationTracking\";\n",
    "      TString prefix = TString(\"h_\") + hist_name_prefix + TString(\"_\");\n",
    "\n",
    "  // obtain normalization\n",
    "  double Nevent_new = 1;\n",
    "  double Nevent_ref = 1;\n",
    "    \n",
    "    \n",
    "\n",
    "  if (qa_file_new)\n",
    "  {\n",
    "    TH1 *h_norm = (TH1 *) qa_file_new->GetObjectChecked(\n",
    "        prefix + TString(\"Normalization\"), \"TH1\");\n",
    "    assert(h_norm);\n",
    "\n",
    "    Nevent_new = h_norm->GetBinContent(h_norm->GetXaxis()->FindBin(\"Event\"));\n",
    "  }\n",
    "  if (qa_file_ref)\n",
    "  {\n",
    "    TH1 *h_norm = (TH1 *) qa_file_ref->GetObjectChecked(\n",
    "        prefix + TString(\"Normalization\"), \"TH1\");\n",
    "    assert(h_norm);\n",
    "\n",
    "    Nevent_ref = h_norm->GetBinContent(h_norm->GetXaxis()->FindBin(\"Event\"));\n",
    "  }\n",
    "\n",
    "  //MVTX, INTT, TPC\n",
    "  vector<TString> detectors{\"MVTX\", \"INTT\", \"TPC\"};\n",
    "  vector<int> eff_ncluster_cuts{2, 2, 40};\n",
    "  vector<double> ncluster_spectrum_pt_cuts{2, 2, 2};\n",
    "  vector<TH2 *> h_pass_detectors(3, nullptr);\n",
    "  static const int nrebin = 5;\n",
    "\n",
    "  h_pass_detectors[0] = (TH2 *) qa_file_new->GetObjectChecked(\n",
    "      prefix + \"nMVTX_nReco_pTGen\", \"TH1\") ;\n",
    "  h_pass_detectors[1] = (TH2 *) qa_file_new->GetObjectChecked(\n",
    "      prefix + \"nINTT_nReco_pTGen\", \"TH1\") ;\n",
    "  h_pass_detectors[2] = (TH2 *) qa_file_new->GetObjectChecked(\n",
    "      prefix + \"nTPC_nReco_pTGen\", \"TH1\") ;\n",
    "\n",
    "  TH1 *h_norm = (TH1 *) qa_file_new->GetObjectChecked(\n",
    "      prefix + \"nGen_pTGen\", \"TH1\") ;\n",
    "  assert(h_norm);\n",
    "    h_norm->SetDirectory(nullptr);\n",
    "  h_norm->Rebin(nrebin);\n",
    "\n",
    "  vector<TH2 *> h_pass_detectors_ref(3, nullptr);\n",
    "  TH1 *h_norm_ref = nullptr;\n",
    "  if (qa_file_ref)\n",
    "  {\n",
    "    h_pass_detectors_ref[0] = (TH2 *) qa_file_ref->GetObjectChecked(\n",
    "        prefix + \"nMVTX_nReco_pTGen\", \"TH1\") ;\n",
    "    h_pass_detectors_ref[1] = (TH2 *) qa_file_ref->GetObjectChecked(\n",
    "        prefix + \"nINTT_nReco_pTGen\", \"TH1\") ;\n",
    "    h_pass_detectors_ref[2] = (TH2 *) qa_file_ref->GetObjectChecked(\n",
    "        prefix + \"nTPC_nReco_pTGen\", \"TH1\") ;\n",
    "\n",
    "    h_norm_ref = (TH1 *) qa_file_ref->GetObjectChecked(\n",
    "        prefix + \"nGen_pTGen\", \"TH1\") ;\n",
    "    h_norm_ref->SetDirectory(nullptr);\n",
    "    h_norm_ref->Rebin(nrebin);\n",
    "\n",
    "  }\n",
    "\n",
    "  TCanvas *c1 = new TCanvas(TString(\"QA_Draw_Tracking_TruthMatching_NumOfClusters\") + TString(\"_\") + hist_name_prefix,\n",
    "                            TString(\"QA_Draw_Tracking_TruthMatching_NumOfClusters\") + TString(\"_\") + hist_name_prefix,\n",
    "                            1800, 1000);\n",
    "  c1->Divide(3, 2);\n",
    "  TPad *p;\n",
    "\n",
    "  for (int i = 0; i < 3; ++i)\n",
    "  {\n",
    "    TString detector = detectors[i];\n",
    "    TH2 *h_pass_detector = h_pass_detectors[i];\n",
    "    TH2 *h_pass_detector_ref = h_pass_detectors_ref[i];\n",
    "    assert(h_pass_detector);\n",
    "\n",
    "    {\n",
    "      p = (TPad *) c1->cd(i + 1);\n",
    "      c1->Update();\n",
    "      p->SetLogy();\n",
    "\n",
    "      const int bin_start = h_pass_detector->GetXaxis()->FindBin(ncluster_spectrum_pt_cuts[i]);\n",
    "\n",
    "      TH1 *h_pass_detector_ncluster = h_pass_detector->ProjectionY(\n",
    "          TString(h_pass_detector->GetName()) + \"_nCluster_new\",\n",
    "          bin_start);\n",
    "      TH1 *h_pass_detector_ncluster_ref = nullptr;\n",
    "      if (h_pass_detector_ref)\n",
    "      {\n",
    "        h_pass_detector_ncluster_ref = h_pass_detector_ref->ProjectionY(\n",
    "            TString(h_pass_detector_ref->GetName()) + \"_nCluster_ref\",\n",
    "            bin_start);\n",
    "      }\n",
    "\n",
    "      h_pass_detector_ncluster->SetTitle(TString(hist_name_prefix) + \": \" + detector + Form(\" n_{Cluster} | p_{T} #geq %.1fGeV/c\", ncluster_spectrum_pt_cuts[i]));\n",
    "      h_pass_detector_ncluster->SetYTitle(\"# of reconstructed track\");\n",
    "      DrawReference(h_pass_detector_ncluster, h_pass_detector_ncluster_ref, false);\n",
    "    }\n",
    "\n",
    "    {\n",
    "      p = (TPad *) c1->cd(i + 3 + 1);\n",
    "      c1->Update();\n",
    "      p->SetLogx();\n",
    "      p->SetGridy();\n",
    "\n",
    "      const int bin_start = h_pass_detector->GetYaxis()->FindBin(eff_ncluster_cuts[i]);\n",
    "      TH1 *h_pass = h_pass_detector->ProjectionX(\n",
    "          TString(h_pass_detector->GetName()) + \"_nReco_new\",\n",
    "          bin_start);\n",
    "\n",
    "      assert(h_pass);\n",
    "        h_pass->SetDirectory(nullptr);\n",
    "      h_pass->Rebin(nrebin);\n",
    "\n",
    "      TH1 *h_ratio = GetBinominalRatio(h_pass, h_norm);\n",
    "      h_ratio->GetYaxis()->SetTitle(\"Reco efficiency | \" + detector + Form(\" n_{Cluster} #geq %d\", eff_ncluster_cuts[i]));\n",
    "      h_ratio->GetYaxis()->SetRangeUser(-0, 1.);\n",
    "      //\n",
    "      TH1 *h_ratio_ref = NULL;\n",
    "      if (h_pass_detector_ref)\n",
    "      {\n",
    "        TH1 *h_pass = h_pass_detector_ref->ProjectionX(\n",
    "            TString(h_pass_detector->GetName()) + \"_nReco_ref\",\n",
    "            bin_start);\n",
    "\n",
    "        assert(h_pass);\n",
    "        h_pass->SetDirectory(nullptr);\n",
    "      h_pass->Rebin(nrebin);\n",
    "\n",
    "        h_ratio_ref = GetBinominalRatio(h_pass, h_norm_ref);\n",
    "      }\n",
    "      //\n",
    "      h_ratio->SetTitle(\"Tracking efficiency | \" + detector + Form(\" n_{Cluster} #geq %d\", eff_ncluster_cuts[i]));\n",
    "      DrawReference(h_ratio, h_ratio_ref, false);\n",
    "    }\n",
    "  }\n",
    "\n",
    "  // SaveCanvas(c1, TString(qa_file_name_new) + TString(\"_\") + TString(c1->GetName()), true);\n",
    "    c1->Draw();\n",
    "}"
   ]
  },
  {
   "cell_type": "markdown",
   "metadata": {},
   "source": [
    "## Hits per layer"
   ]
  },
  {
   "cell_type": "code",
   "execution_count": 16,
   "metadata": {
    "execution": {
     "iopub.execute_input": "2021-01-20T07:22:50.706535Z",
     "iopub.status.busy": "2021-01-20T07:22:50.705949Z",
     "iopub.status.idle": "2021-01-20T07:22:50.810803Z",
     "shell.execute_reply": "2021-01-20T07:22:50.811647Z"
    }
   },
   "outputs": [],
   "source": [
    "%%cpp -d\n",
    "\n",
    "\n",
    "namespace\n",
    "{\n",
    "  // Normalization\n",
    "  double Nevent_new = 1;\n",
    "  double Nevent_ref = 1;\n",
    "\n",
    "  void GetNormalization(TFile *qa_file_new, TFile *qa_file_ref, const TString &prefix, const TString &tag)\n",
    "  {\n",
    "    if (qa_file_new)\n",
    "    {\n",
    "      TH1 *h_norm = (TH1 *) qa_file_new->GetObjectChecked(prefix + TString(\"Normalization\"), \"TH1\");\n",
    "      assert(h_norm);\n",
    "      Nevent_new = h_norm->GetBinContent(h_norm->GetXaxis()->FindBin(tag));\n",
    "    }\n",
    "\n",
    "    if (qa_file_ref)\n",
    "    {\n",
    "      TH1 *h_norm = (TH1 *) qa_file_ref->GetObjectChecked(prefix + TString(\"Normalization\"), \"TH1\");\n",
    "      assert(h_norm);\n",
    "      Nevent_ref = h_norm->GetBinContent(h_norm->GetXaxis()->FindBin(tag));\n",
    "    }\n",
    "  }\n",
    "\n",
    "  void Draw(TFile *qa_file_new, TFile *qa_file_ref, const TString &prefix, const TString &tag)\n",
    "  {\n",
    "    auto h_new = static_cast<TH1 *>(qa_file_new->GetObjectChecked(prefix + tag, \"TH1\"));\n",
    "    assert(h_new);\n",
    "    //h_new->Sumw2();\n",
    "    h_new->Scale(1. / Nevent_new);\n",
    "\n",
    "    TH1 *h_ref = nullptr;\n",
    "    if (qa_file_ref)\n",
    "    {\n",
    "      h_ref = static_cast<TH1 *>(qa_file_ref->GetObjectChecked(prefix + tag, \"TH1\"));\n",
    "      assert(h_ref);\n",
    "      //h_ref->Sumw2();\n",
    "      h_ref->Scale(1.0 / Nevent_ref);\n",
    "    }\n",
    "\n",
    "    DrawReference(h_new, h_ref);\n",
    "    HorizontalLine(gPad, 1)->Draw();\n",
    "  }\n",
    "\n",
    "}  // namespace"
   ]
  },
  {
   "cell_type": "code",
   "execution_count": 17,
   "metadata": {
    "execution": {
     "iopub.execute_input": "2021-01-20T07:22:50.892370Z",
     "iopub.status.busy": "2021-01-20T07:22:50.891113Z",
     "iopub.status.idle": "2021-01-20T07:22:51.315586Z",
     "shell.execute_reply": "2021-01-20T07:22:51.316605Z"
    }
   },
   "outputs": [
    {
     "data": {
      "image/png": "[encoded data removed]",
      "text/plain": [
       "<IPython.core.display.Image object>"
      ]
     },
     "metadata": {},
     "output_type": "display_data"
    }
   ],
   "source": [
    "%%cpp\n",
    "{\n",
    "     const char *hist_name_prefix = \"QAG4SimulationTracking\";\n",
    "      TString prefix = TString(\"h_\") + hist_name_prefix + TString(\"_\");\n",
    "\n",
    "  auto c1 = new TCanvas(TString(\"QA_Draw_Tracking_nClus_Layer\") + TString(\"_\") + hist_name_prefix,\n",
    "                        TString(\"QA_Draw_Tracking_nClus_Layer\") + TString(\"_\") + hist_name_prefix,\n",
    "                        1800, 1000);\n",
    "\n",
    "  c1->Divide(2, 1);\n",
    "  c1->cd(1);\n",
    "  GetNormalization(qa_file_new, qa_file_ref, prefix, \"Truth Track\");\n",
    "  Draw(qa_file_new, qa_file_ref, prefix, \"nClus_layerGen\");\n",
    "\n",
    "  c1->cd(2);\n",
    "  GetNormalization(qa_file_new, qa_file_ref, prefix, \"Reco Track\");\n",
    "  Draw(qa_file_new, qa_file_ref, prefix, \"nClus_layer\");\n",
    "\n",
    "  // SaveCanvas(c1, TString(qa_file_name_new) + TString(\"_\") + TString(c1->GetName()), true);\n",
    "    c1->Draw();\n",
    "}"
   ]
  },
  {
   "cell_type": "markdown",
   "metadata": {},
   "source": []
  },
  {
   "cell_type": "markdown",
   "metadata": {},
   "source": [
    "# Upsilon reconstruction\n",
    "\n",
    "One $\\Upsilon(1S) \\rightarrow e^+ e^-$ is embedded. Here is its reco results"
   ]
  },
  {
   "cell_type": "code",
   "execution_count": 18,
   "metadata": {
    "execution": {
     "iopub.execute_input": "2021-01-20T07:22:51.327258Z",
     "iopub.status.busy": "2021-01-20T07:22:51.326712Z",
     "iopub.status.idle": "2021-01-20T07:22:51.433553Z",
     "shell.execute_reply": "2021-01-20T07:22:51.432523Z"
    }
   },
   "outputs": [],
   "source": [
    "%%cpp -d\n",
    "\n",
    "// christal ball function for Upsilon fits\n",
    "Double_t CBcalc(Double_t *xx, Double_t *par)\n",
    "{\n",
    "  // Crystal Ball fit to one state\n",
    "  double f;\n",
    "  double x = xx[0];\n",
    "\n",
    "  // The four parameters (alpha, n, x_mean, sigma) plus normalization (N) are:\n",
    "   \n",
    "  double alpha = par[0];\n",
    "  double n = par[1];\n",
    "  double x_mean = par[2];\n",
    "  double sigma = par[3];\n",
    "  double N = par[4];\n",
    "\n",
    "  // we need:\n",
    "\n",
    "  double A = pow( (n/TMath::Abs(alpha)),n) * exp(-pow(alpha,2)/2.0);\n",
    "  double B = n/TMath::Abs(alpha) - TMath::Abs(alpha);\n",
    "\n",
    "  // The Crystal Ball function is:\n",
    "   \n",
    "  if( (x-x_mean)/sigma > -alpha)\n",
    "  {\n",
    "    f = N * exp( -pow(x-x_mean,2) / (2.0*pow(sigma,2)));\n",
    "  }\n",
    "  else\n",
    "  {\n",
    "    f = N * A * pow(B - (x-x_mean)/sigma, -n);\n",
    "  }\n",
    "\n",
    "  return f;\n",
    "}\n",
    "\n"
   ]
  },
  {
   "cell_type": "code",
   "execution_count": 19,
   "metadata": {
    "execution": {
     "iopub.execute_input": "2021-01-20T07:22:51.570342Z",
     "iopub.status.busy": "2021-01-20T07:22:51.568957Z",
     "iopub.status.idle": "2021-01-20T07:22:51.673968Z",
     "shell.execute_reply": "2021-01-20T07:22:51.672950Z"
    }
   },
   "outputs": [
    {
     "name": "stdout",
     "output_type": "stream",
     "text": [
      "QAG4SimulationUpsilon is not enabled. Skip....\n"
     ]
    }
   ],
   "source": [
    "%%cpp\n",
    "\n",
    "{\n",
    "  const char *hist_name_prefix = \"QAG4SimulationUpsilon\";\n",
    "  TString prefix = TString(\"h_\") + hist_name_prefix + TString(\"_\");\n",
    "\n",
    "  // obtain normalization\n",
    "  double Nevent_new = 1;\n",
    "  double Nevent_ref = 1;\n",
    "\n",
    "  if ( qa_file_new->GetObjectChecked(\n",
    "        prefix + TString(\"pTRecoGenRatio_pTGen\"), \"TH2\")\n",
    "     == nullptr )\n",
    "    {\n",
    "        cout <<\"QAG4SimulationUpsilon is not enabled. Skip....\"<<endl;\n",
    "    }\n",
    "    else\n",
    "    {\n",
    "\n",
    "      TCanvas *c1 = new TCanvas(TString(\"QA_Draw_Tracking_UpsilonOverview\") + TString(\"_\") + hist_name_prefix,\n",
    "                                TString(\"QA_Draw_Tracking_UpsilonOverview\") + TString(\"_\") + hist_name_prefix,\n",
    "                                1800, 1000);\n",
    "      c1->Divide(2, 1);\n",
    "      int idx = 1;\n",
    "      TPad *p;\n",
    "\n",
    "      {\n",
    "        p = (TPad *) c1->cd(idx++);\n",
    "        c1->Update();\n",
    "        p->SetLogy();\n",
    "\n",
    "        TH2 *h_new = (TH2 *) qa_file_new->GetObjectChecked(\n",
    "            prefix + TString(\"pTRecoGenRatio_pTGen\"), \"TH2\");\n",
    "        assert(h_new);\n",
    "\n",
    "        //  h_new->Rebin(1, 2);\n",
    "        //h_new->Sumw2();\n",
    "        //  h_new->Scale(1. / Nevent_new);\n",
    "\n",
    "        TH2 *h_ref = NULL;\n",
    "        if (qa_file_ref)\n",
    "        {\n",
    "          h_ref = (TH2 *) qa_file_ref->GetObjectChecked(\n",
    "              prefix + TString(\"pTRecoGenRatio_pTGen\"), \"TH2\");\n",
    "          assert(h_ref);\n",
    "\n",
    "          //    h_ref->Rebin(1, 2);\n",
    "          //h_ref->Sumw2();\n",
    "          h_ref->Scale(Nevent_new / Nevent_ref);\n",
    "        }\n",
    "\n",
    "        TH1 *h_proj_new = h_new->ProjectionY(\n",
    "            TString::Format(\n",
    "                \"%s_New_ProjX\",\n",
    "                h_new->GetName()));\n",
    "\n",
    "        h_proj_new->GetXaxis()->SetRangeUser(0, 1.3);\n",
    "        h_proj_new->SetTitle(TString(hist_name_prefix) + TString::Format(\n",
    "                                                             \": Electron lineshape\"));\n",
    "        h_proj_new->GetXaxis()->SetTitle(TString::Format(\n",
    "            \"Reco p_{T}/Truth p_{T}\"));\n",
    "\n",
    "        TF1 *f_eLineshape = new TF1(\"f_eLineshape\", CBcalc, 7, 11, 5);\n",
    "        f_eLineshape->SetParameter(0, 1.0);\n",
    "        f_eLineshape->SetParameter(1, 1.0);\n",
    "        f_eLineshape->SetParameter(2, 0.95);\n",
    "        f_eLineshape->SetParameter(3, 0.08);\n",
    "        f_eLineshape->SetParameter(4, 20.0);\n",
    "\n",
    "        f_eLineshape->SetParNames(\"alpha1S\",\"n1S\",\"m1S\",\"sigma1S\",\"N1S\");\n",
    "        f_eLineshape->SetLineColor(kRed);\n",
    "        f_eLineshape->SetLineWidth(3);\n",
    "        f_eLineshape->SetLineStyle(kSolid);\n",
    "        f_eLineshape->SetNpx(1000);\n",
    "\n",
    "        h_proj_new->Fit(f_eLineshape);\n",
    "\n",
    "        TH1 *h_proj_ref = nullptr;\n",
    "        if (h_ref)\n",
    "        {\n",
    "          h_proj_ref =\n",
    "              h_ref->ProjectionY(\n",
    "                  TString::Format(\n",
    "                      \"%s_Ref_ProjX\",\n",
    "                      h_new->GetName()));\n",
    "        }\n",
    "        TF1 *f_eLineshape_ref = new TF1(\"f_eLineshape_ref\", CBcalc, 7, 11, 5);\n",
    "        f_eLineshape_ref->SetParameter(0, 1.0);\n",
    "        f_eLineshape_ref->SetParameter(1, 1.0);\n",
    "        f_eLineshape_ref->SetParameter(2, 0.95);\n",
    "        f_eLineshape_ref->SetParameter(3, 0.08);\n",
    "        f_eLineshape_ref->SetParameter(4, 20.0);\n",
    "\n",
    "        f_eLineshape_ref->SetParNames(\"alpha1S\",\"n1S\",\"m1S\",\"sigma1S\",\"N1S\");\n",
    "        f_eLineshape_ref->SetLineColor(kRed);\n",
    "        f_eLineshape_ref->SetLineWidth(3);\n",
    "        f_eLineshape_ref->SetLineStyle(kSolid);\n",
    "\n",
    "        h_proj_ref->Fit(f_eLineshape_ref);\n",
    "\n",
    "\n",
    "        DrawReference(h_proj_new, h_proj_ref);\n",
    "        f_eLineshape->Draw(\"same\");\n",
    "\n",
    "        char resstr_1[500];\n",
    "        sprintf(resstr_1,\"#sigma_{dp/p} = %.2f #pm %.2f %%\", f_eLineshape->GetParameter(3)*100, f_eLineshape->GetParError(3)*100);\n",
    "        TLatex *res_1 = new TLatex(0.2,0.75,resstr_1);\n",
    "        res_1->SetNDC();\n",
    "        res_1->SetTextSize(0.05);\n",
    "        res_1->SetTextAlign(13);\n",
    "        res_1->Draw();\n",
    "\n",
    "        char resstr_2[500];\n",
    "        sprintf(resstr_2,\"#sigma_{dp/p,ref} = %.2f #pm %.2f %%\", f_eLineshape_ref->GetParameter(3)*100, f_eLineshape_ref->GetParError(3)*100);\n",
    "        TLatex *res_2 = new TLatex(0.2,0.7,resstr_2);\n",
    "        res_2->SetNDC();\n",
    "        res_2->SetTextSize(0.05);\n",
    "        res_2->SetTextAlign(13);\n",
    "        res_2->Draw();\n",
    "      }\n",
    "\n",
    "      {\n",
    "        p = (TPad *) c1->cd(idx++);\n",
    "        c1->Update();\n",
    "    //    p->SetLogy();\n",
    "\n",
    "        TH1 *h_new = (TH1 *) qa_file_new->GetObjectChecked(\n",
    "            prefix + TString(\"nReco_Pair_InvMassReco\"), \"TH1\");\n",
    "        assert(h_new);\n",
    "\n",
    "        //    h_new->Rebin(2);\n",
    "        //h_new->Sumw2();\n",
    "        //  h_new->Scale(1. / Nevent_new);\n",
    "\n",
    "        TF1 *f1S = new TF1(\"f1S\", CBcalc, 7, 11, 5);\n",
    "        f1S->SetParameter(0, 1.0);\n",
    "        f1S->SetParameter(1, 1.0);\n",
    "        f1S->SetParameter(2, 9.46);\n",
    "        f1S->SetParameter(3, 0.08);\n",
    "        f1S->SetParameter(4, 50.0);\n",
    "\n",
    "        f1S->SetParNames(\"alpha1S\",\"n1S\",\"m1S\",\"sigma1S\",\"N1S\");\n",
    "        f1S->SetLineColor(kRed);\n",
    "        f1S->SetLineWidth(3);\n",
    "        f1S->SetLineStyle(kSolid);\n",
    "        f1S->SetNpx(1000);\n",
    "\n",
    "        h_new->Fit(f1S);\n",
    "\n",
    "        TH1 *h_ref = NULL;\n",
    "        if (qa_file_ref)\n",
    "        {\n",
    "          h_ref = (TH1 *) qa_file_ref->GetObjectChecked(\n",
    "              prefix + TString(\"nReco_Pair_InvMassReco\"), \"TH1\");\n",
    "          assert(h_ref);\n",
    "\n",
    "          //      h_ref->Rebin(2);\n",
    "        //h_ref->Sumw2();\n",
    "          //      h_ref->Scale(Nevent_new / Nevent_ref);\n",
    "        }\n",
    "\n",
    "        h_new->SetTitle(TString(hist_name_prefix) + TString::Format(\n",
    "                                                        \": #Upsilon #rightarrow e^{+}e^{-} lineshape\"));\n",
    "        h_new->GetXaxis()->SetRangeUser(7, 10);\n",
    "\n",
    "        TF1 *f1S_ref = new TF1(\"f1S_ref\", CBcalc, 7, 11, 5);\n",
    "        f1S_ref->SetParameter(0, 1.0);\n",
    "        f1S_ref->SetParameter(1, 1.0);\n",
    "        f1S_ref->SetParameter(2, 9.46);\n",
    "        f1S_ref->SetParameter(3, 0.08);\n",
    "        f1S_ref->SetParameter(4, 50.0);\n",
    "\n",
    "        f1S_ref->SetParNames(\"alpha1S\",\"n1S\",\"m1S\",\"sigma1S\",\"N1S\");\n",
    "        f1S_ref->SetLineColor(kRed);\n",
    "        f1S_ref->SetLineWidth(3);\n",
    "        f1S_ref->SetLineStyle(kSolid);\n",
    "\n",
    "        h_ref->Fit(f1S_ref);\n",
    "\n",
    "        DrawReference(h_new, h_ref, false);\n",
    "        f1S->Draw(\"same\");\n",
    "\n",
    "        // cout << \"f1S pars \" <<  f1S->GetParameter(3) << \"   \" << f1S->GetParError(3) << endl;\n",
    "\n",
    "        char resstr_3[500];\n",
    "        sprintf(resstr_3,\"#sigma_{1S} = %.1f #pm %.1f MeV\", f1S->GetParameter(3)*1000, f1S->GetParError(3)*1000);\n",
    "        TLatex *res_3 = new TLatex(0.2,0.75,resstr_3);\n",
    "        res_3->SetNDC();\n",
    "        res_3->SetTextSize(0.05);\n",
    "        res_3->SetTextAlign(13);\n",
    "        res_3->Draw();\n",
    "\n",
    "        char resstr_4[500];\n",
    "        sprintf(resstr_4,\"#sigma_{1S,ref} = %.1f #pm %.1f MeV\", f1S_ref->GetParameter(3)*1000, f1S_ref->GetParError(3)*1000);\n",
    "        TLatex *res_4 = new TLatex(0.2,0.7,resstr_4);\n",
    "        res_4->SetNDC();\n",
    "        res_4->SetTextSize(0.05);\n",
    "        res_4->SetTextAlign(13);\n",
    "        res_4->Draw();\n",
    "      }\n",
    "\n",
    "      // SaveCanvas(c1, TString(qa_file_name_new) + TString(\"_\") + TString(c1->GetName()), true);\n",
    "\n",
    "      c1 -> Draw();\n",
    "    }// if checks\n",
    "}"
   ]
  },
  {
   "cell_type": "markdown",
   "metadata": {},
   "source": [
    "# Summary statistics"
   ]
  },
  {
   "cell_type": "code",
   "execution_count": 20,
   "metadata": {
    "execution": {
     "iopub.execute_input": "2021-01-20T07:22:51.731894Z",
     "iopub.status.busy": "2021-01-20T07:22:51.730661Z",
     "iopub.status.idle": "2021-01-20T07:22:51.835494Z",
     "shell.execute_reply": "2021-01-20T07:22:51.834247Z"
    }
   },
   "outputs": [
    {
     "name": "stdout",
     "output_type": "stream",
     "text": [
      "This notebook contains 13 KSTets: combined Chi2/nDoF = 1.99041 / 26, and combined __p-Value = 1__\n"
     ]
    }
   ],
   "source": [
    "%%cpp\n",
    "\n",
    "KSTestSummary::getInstance()->make_summary_txt(\"QA-tracking.txt\");"
   ]
  },
  {
   "cell_type": "code",
   "execution_count": 21,
   "metadata": {
    "execution": {
     "iopub.execute_input": "2021-01-20T07:22:51.861828Z",
     "iopub.status.busy": "2021-01-20T07:22:51.860616Z",
     "iopub.status.idle": "2021-01-20T07:22:52.087938Z",
     "shell.execute_reply": "2021-01-20T07:22:52.086687Z"
    }
   },
   "outputs": [
    {
     "data": {
      "image/png": "[encoded data removed]",
      "text/plain": [
       "<IPython.core.display.Image object>"
      ]
     },
     "metadata": {},
     "output_type": "display_data"
    }
   ],
   "source": [
    "%%cpp\n",
    "\n",
    "KSTestSummary::getInstance()->make_summary_TCanvas() -> Draw();"
   ]
  },
  {
   "cell_type": "code",
   "execution_count": null,
   "metadata": {},
   "outputs": [],
   "source": []
  }
 ],
 "metadata": {
  "kernelspec": {
   "display_name": "Python (sPHENIX)",
   "language": "python",
   "name": "sphenix-env"
  },
  "language_info": {
   "codemirror_mode": {
    "name": "ipython",
    "version": 3
   },
   "file_extension": ".py",
   "mimetype": "text/x-python",
   "name": "python",
   "nbconvert_exporter": "python",
   "pygments_lexer": "ipython3",
   "version": "3.8.0"
  }
 },
 "nbformat": 4,
 "nbformat_minor": 4
}
