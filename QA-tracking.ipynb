{
 "cells": [
  {
   "cell_type": "markdown",
   "metadata": {},
   "source": [
    "# Introduction\n",
    "\n",
    "QA plots for the generic tracking performance"
   ]
  },
  {
   "cell_type": "code",
   "execution_count": 1,
   "metadata": {
    "execution": {
     "iopub.execute_input": "2021-01-09T02:23:54.923890Z",
     "iopub.status.busy": "2021-01-09T02:23:54.922751Z",
     "iopub.status.idle": "2021-01-09T02:23:54.976443Z",
     "shell.execute_reply": "2021-01-09T02:23:54.958463Z"
    }
   },
   "outputs": [],
   "source": [
    "# imports to write dynamic markdown contents\n",
    "import os\n",
    "from IPython.display import display, Markdown, Latex\n",
    "from IPython.display import HTML"
   ]
  },
  {
   "cell_type": "code",
   "execution_count": 2,
   "metadata": {
    "execution": {
     "iopub.execute_input": "2021-01-09T02:23:55.024428Z",
     "iopub.status.busy": "2021-01-09T02:23:55.022813Z",
     "iopub.status.idle": "2021-01-09T02:23:55.027779Z",
     "shell.execute_reply": "2021-01-09T02:23:55.023607Z"
    }
   },
   "outputs": [
    {
     "data": {
      "text/markdown": [
       "*For the result HTML page:* "
      ],
      "text/plain": [
       "<IPython.core.display.Markdown object>"
      ]
     },
     "metadata": {},
     "output_type": "display_data"
    },
    {
     "data": {
      "text/html": [
       "<script>\n",
       "code_show=true; \n",
       "function code_toggle() {\n",
       " if (code_show){\n",
       " $('div.input').hide();\n",
       " } else {\n",
       " $('div.input').show();\n",
       " }\n",
       " code_show = !code_show\n",
       "} \n",
       "$( document ).ready(code_toggle);\n",
       "</script>\n",
       "<form action=\"javascript:code_toggle()\"><input type=\"submit\" value=\"Click here to toggle on/off the raw code.\"></form>"
      ],
      "text/plain": [
       "<IPython.core.display.HTML object>"
      ]
     },
     "execution_count": 1,
     "metadata": {},
     "output_type": "execute_result"
    }
   ],
   "source": [
    "# turn off/on code for the result HTML page\n",
    "\n",
    "display(Markdown('*For the result HTML page:* '))\n",
    "    \n",
    "HTML('''<script>\n",
    "code_show=true; \n",
    "function code_toggle() {\n",
    " if (code_show){\n",
    " $('div.input').hide();\n",
    " } else {\n",
    " $('div.input').show();\n",
    " }\n",
    " code_show = !code_show\n",
    "} \n",
    "$( document ).ready(code_toggle);\n",
    "</script>\n",
    "<form action=\"javascript:code_toggle()\"><input type=\"submit\" value=\"Click here to toggle on/off the raw code.\"></form>''')"
   ]
  },
  {
   "cell_type": "code",
   "execution_count": 3,
   "metadata": {
    "execution": {
     "iopub.execute_input": "2021-01-09T02:23:55.045381Z",
     "iopub.status.busy": "2021-01-09T02:23:55.043784Z",
     "iopub.status.idle": "2021-01-09T02:23:55.047382Z",
     "shell.execute_reply": "2021-01-09T02:23:55.044552Z"
    }
   },
   "outputs": [
    {
     "data": {
      "text/markdown": [
       "[//]: # (This section starts with a 2nd level heading and get embedded in the result QA report at https://github.com/sPHENIX-Collaboration/QA-gallery/tree/QA-tracking-low-occupancy)\n",
       "\n",
       "## Tracking QA at low occupancy\n",
       "\n",
       "Low occupancy tracking QA concists full tracker + reconstruction of events with 20 $\\pi^+$,  20 $\\pi^-$ and one $\\Upsilon(1S) \\rightarrow e^+ e^-$. Please note the calorimeters are disabled to improve execution speed, which also removed some of the correlated albedo background for the tracker. \n",
       "\n",
       "The source code of the macro can be found at https://github.com/sPHENIX-Collaboration/macros/tree/QA-tracking-low-occupancy or [comparing it to the master branch](https://github.com/sPHENIX-Collaboration/macros/compare/QA-tracking-low-occupancy?expand=1).\n"
      ],
      "text/plain": [
       "<IPython.core.display.Markdown object>"
      ]
     },
     "metadata": {},
     "output_type": "display_data"
    }
   ],
   "source": [
    "import os.path\n",
    "\n",
    "# readme file of the macros, available if run under JenkinsCI\n",
    "# https://github.com/sPHENIX-Collaboration/utilities/blob/master/jenkins/built-test/test-tracking-qa.sh \n",
    "\n",
    "macro_markdown = 'Fun4All-macros-README.md'\n",
    "\n",
    "if os.path.isfile(macro_markdown) :\n",
    "    with open(macro_markdown, 'r') as file:\n",
    "        display(Markdown(file.read()))"
   ]
  },
  {
   "cell_type": "markdown",
   "metadata": {},
   "source": [
    "## `pyROOT` env check"
   ]
  },
  {
   "cell_type": "code",
   "execution_count": 4,
   "metadata": {
    "execution": {
     "iopub.execute_input": "2021-01-09T02:23:55.061713Z",
     "iopub.status.busy": "2021-01-09T02:23:55.060966Z",
     "iopub.status.idle": "2021-01-09T02:24:12.645278Z",
     "shell.execute_reply": "2021-01-09T02:24:12.645995Z"
    }
   },
   "outputs": [
    {
     "name": "stdout",
     "output_type": "stream",
     "text": [
      "Welcome to JupyROOT 6.22/02\n"
     ]
    },
    {
     "data": {
      "text/markdown": [
       "via sPHENIX software distribution at `/cvmfs/sphenix.sdcc.bnl.gov/gcc-8.3/release/release_new/new.4`"
      ],
      "text/plain": [
       "<IPython.core.display.Markdown object>"
      ]
     },
     "metadata": {},
     "output_type": "display_data"
    }
   ],
   "source": [
    "import ROOT\n",
    "\n",
    "OFFLINE_MAIN = os.getenv(\"OFFLINE_MAIN\")\n",
    "if OFFLINE_MAIN is not None:\n",
    "    display(Markdown(f\"via sPHENIX software distribution at `{OFFLINE_MAIN}`\"))"
   ]
  },
  {
   "cell_type": "markdown",
   "metadata": {},
   "source": [
    "## Plotting source code"
   ]
  },
  {
   "cell_type": "code",
   "execution_count": 5,
   "metadata": {
    "execution": {
     "iopub.execute_input": "2021-01-09T02:24:12.686435Z",
     "iopub.status.busy": "2021-01-09T02:24:12.685160Z",
     "iopub.status.idle": "2021-01-09T02:24:12.881189Z",
     "shell.execute_reply": "2021-01-09T02:24:12.878324Z"
    }
   },
   "outputs": [
    {
     "data": {
      "text/markdown": [
       "View the source code repository at https://github.com/sPHENIX-Collaboration/QA-gallery.git"
      ],
      "text/plain": [
       "<IPython.core.display.Markdown object>"
      ]
     },
     "metadata": {},
     "output_type": "display_data"
    }
   ],
   "source": [
    "import subprocess\n",
    "\n",
    "try:\n",
    "    git_url = \\\n",
    "        subprocess.run(['git','remote','get-url','origin'], stdout=subprocess.PIPE)\\\n",
    "        .stdout.decode('utf-8').strip()\\\n",
    "        .replace('git@github.com:','https://github.com/')\n",
    "\n",
    "    display(Markdown(f\"View the source code repository at {git_url}\"))\n",
    "except: # catch *all* exceptions\n",
    "    #     well do nothing\n",
    "    pass"
   ]
  },
  {
   "cell_type": "markdown",
   "metadata": {},
   "source": [
    "## JenkinsCI information (if available)"
   ]
  },
  {
   "cell_type": "code",
   "execution_count": 6,
   "metadata": {
    "execution": {
     "iopub.execute_input": "2021-01-09T02:24:12.908773Z",
     "iopub.status.busy": "2021-01-09T02:24:12.907764Z",
     "iopub.status.idle": "2021-01-09T02:24:13.036831Z",
     "shell.execute_reply": "2021-01-09T02:24:13.036015Z"
    }
   },
   "outputs": [
    {
     "data": {
      "text/markdown": [
       "Some further details about the QA run, if executed under the Jenkins CI:"
      ],
      "text/plain": [
       "<IPython.core.display.Markdown object>"
      ]
     },
     "metadata": {},
     "output_type": "display_data"
    },
    {
     "data": {
      "text/markdown": [
       "* The commit being checked is sPHENIX-Collaboration/coresoftware/c7db2d87cb8c16df461ebb11b3968574496ccbb1"
      ],
      "text/plain": [
       "<IPython.core.display.Markdown object>"
      ]
     },
     "metadata": {},
     "output_type": "display_data"
    },
    {
     "data": {
      "text/markdown": [
       "* Link to the pull request: https://github.com/sPHENIX-Collaboration/coresoftware/pull/1050"
      ],
      "text/plain": [
       "<IPython.core.display.Markdown object>"
      ]
     },
     "metadata": {},
     "output_type": "display_data"
    },
    {
     "data": {
      "text/markdown": [
       "* Link to the build: https://web.sdcc.bnl.gov/jenkins-sphenix/job/sPHENIX/job/test-tracking-low-occupancy-qa/651/"
      ],
      "text/plain": [
       "<IPython.core.display.Markdown object>"
      ]
     },
     "metadata": {},
     "output_type": "display_data"
    },
    {
     "data": {
      "text/markdown": [
       "* Git repo for macros: https://github.com/sPHENIX-Collaboration/macros.git , which merges `*/master` and the QA tracking branch"
      ],
      "text/plain": [
       "<IPython.core.display.Markdown object>"
      ]
     },
     "metadata": {},
     "output_type": "display_data"
    },
    {
     "data": {
      "text/markdown": [
       "* Download the QA ROOT files: https://web.sdcc.bnl.gov/jenkins-sphenix/job/sPHENIX/job/test-tracking-low-occupancy-qa/651/display/redirect?page=artifacts"
      ],
      "text/plain": [
       "<IPython.core.display.Markdown object>"
      ]
     },
     "metadata": {},
     "output_type": "display_data"
    },
    {
     "data": {
      "text/markdown": [
       "Automatically generated by [sPHENIX Jenkins continuous integration](https://web.sdcc.bnl.gov/jenkins-sphenix/) [![sPHENIX](https://raw.githubusercontent.com/sPHENIX-Collaboration/utilities/master/jenkins/material/sphenix-logo-white-bg-72p.png)](https://www.sphenix.bnl.gov/web/) &nbsp; &nbsp; &nbsp; &nbsp; &nbsp; &nbsp; [![jenkins.io](https://raw.githubusercontent.com/sPHENIX-Collaboration/utilities/master/jenkins/material/jenkins_logo_title-72p.png)](https://jenkins.io/)"
      ],
      "text/plain": [
       "<IPython.core.display.Markdown object>"
      ]
     },
     "metadata": {},
     "output_type": "display_data"
    }
   ],
   "source": [
    "display(Markdown('Some further details about the QA run, if executed under the Jenkins CI:'))\n",
    "\n",
    "checkrun_repo_commit = os.getenv(\"checkrun_repo_commit\")\n",
    "if checkrun_repo_commit is not None:\n",
    "    display(Markdown(f\"* The commit being checked is {checkrun_repo_commit}\"))\n",
    "        \n",
    "ghprbPullLink = os.getenv(\"ghprbPullLink\")\n",
    "if ghprbPullLink is not None:\n",
    "    display(Markdown(f\"* Link to the pull request: {ghprbPullLink}\"))\n",
    "\n",
    "BUILD_URL =  os.getenv(\"BUILD_URL\")\n",
    "if BUILD_URL is not None:\n",
    "    display(Markdown(f\"* Link to the build: {BUILD_URL}\"))\n",
    "\n",
    "git_url_macros =  os.getenv(\"git_url_macros\")\n",
    "sha_macros =  os.getenv(\"sha_macros\")\n",
    "if git_url_macros is not None:\n",
    "    display(Markdown(f\"* Git repo for macros: {git_url_macros} , which merges `{sha_macros}` and the QA tracking branch\"))\n",
    "\n",
    "RUN_ARTIFACTS_DISPLAY_URL = os.getenv(\"RUN_ARTIFACTS_DISPLAY_URL\")\n",
    "if RUN_ARTIFACTS_DISPLAY_URL is not None:\n",
    "    display(Markdown(f\"* Download the QA ROOT files: {RUN_ARTIFACTS_DISPLAY_URL}\"))\n",
    "\n",
    "JENKINS_URL  = os.getenv(\"JENKINS_URL\")\n",
    "if JENKINS_URL is not None:\n",
    "    display(Markdown(f\"Automatically generated by [sPHENIX Jenkins continuous integration]({JENKINS_URL}) [![sPHENIX](https://raw.githubusercontent.com/sPHENIX-Collaboration/utilities/master/jenkins/material/sphenix-logo-white-bg-72p.png)](https://www.sphenix.bnl.gov/web/) &nbsp; &nbsp; &nbsp; &nbsp; &nbsp; &nbsp; [![jenkins.io](https://raw.githubusercontent.com/sPHENIX-Collaboration/utilities/master/jenkins/material/jenkins_logo_title-72p.png)](https://jenkins.io/)\"))"
   ]
  },
  {
   "cell_type": "markdown",
   "metadata": {},
   "source": [
    "\n",
    "# Initialization"
   ]
  },
  {
   "cell_type": "code",
   "execution_count": 7,
   "metadata": {
    "execution": {
     "iopub.execute_input": "2021-01-09T02:24:14.420190Z",
     "iopub.status.busy": "2021-01-09T02:24:14.419251Z",
     "iopub.status.idle": "2021-01-09T02:24:14.551008Z",
     "shell.execute_reply": "2021-01-09T02:24:14.550069Z"
    },
    "scrolled": true
   },
   "outputs": [],
   "source": [
    "%%cpp -d\n",
    "\n",
    "#include \"QA_Draw_Utility.C\"\n",
    "\n",
    "#include <sPhenixStyle.C>\n",
    "\n",
    "#include <TFile.h>\n",
    "#include <TLine.h>\n",
    "#include <TString.h>\n",
    "#include <TTree.h>\n",
    "#include <cassert>\n",
    "#include <cmath>"
   ]
  },
  {
   "cell_type": "code",
   "execution_count": 8,
   "metadata": {
    "execution": {
     "iopub.execute_input": "2021-01-09T02:24:18.563135Z",
     "iopub.status.busy": "2021-01-09T02:24:18.562061Z",
     "iopub.status.idle": "2021-01-09T02:24:18.692600Z",
     "shell.execute_reply": "2021-01-09T02:24:18.691769Z"
    }
   },
   "outputs": [
    {
     "name": "stdout",
     "output_type": "stream",
     "text": [
      "sPhenixStyle: Applying nominal settings.\n",
      "sPhenixStyle: ROOT6 mode\n"
     ]
    }
   ],
   "source": [
    "%%cpp\n",
    "\n",
    "SetsPhenixStyle();\n",
    "TVirtualFitter::SetDefaultFitter(\"Minuit2\");\n",
    "\n",
    "// test sPHENIX lib load\n",
    "// gSystem->Load(\"libg4eval.so\");\n",
    "\n",
    "// test libs\n",
    "// gSystem->ListLibraries();"
   ]
  },
  {
   "cell_type": "markdown",
   "metadata": {},
   "source": [
    "## Inputs and file checks"
   ]
  },
  {
   "cell_type": "code",
   "execution_count": 9,
   "metadata": {
    "execution": {
     "iopub.execute_input": "2021-01-09T02:24:18.722063Z",
     "iopub.status.busy": "2021-01-09T02:24:18.721109Z",
     "iopub.status.idle": "2021-01-09T02:24:18.845844Z",
     "shell.execute_reply": "2021-01-09T02:24:18.845092Z"
    }
   },
   "outputs": [],
   "source": [
    "\n",
    "qa_file_name_new = os.getenv(\"qa_file_name_new\")\n",
    "if qa_file_name_new is None:\n",
    "    qa_file_name_new = \"G4sPHENIX_test-tracking-low-occupancy-qa_Event100_Sum10_qa.root\"\n",
    "    display(Markdown(f\"`qa_file_name_new` env not set. use the default `qa_file_name_new={qa_file_name_new}`\"))\n",
    "\n",
    "qa_file_name_ref = os.getenv(\"qa_file_name_ref\")\n",
    "if qa_file_name_ref is None:\n",
    "    qa_file_name_ref = \"reference/G4sPHENIX_test-tracking-low-occupancy-qa_Event100_Sum10_qa.root\"\n",
    "    display(Markdown(f\"`qa_file_name_ref` env not set. use the default `qa_file_name_ref={qa_file_name_ref}`\"))\n",
    "elif qa_file_name_ref == 'None':\n",
    "    qa_file_name_ref = None\n",
    "    display(Markdown(f\"`qa_file_name_ref` = None and we are set to not to use the reference histograms\"))\n",
    "    \n"
   ]
  },
  {
   "cell_type": "code",
   "execution_count": 10,
   "metadata": {
    "execution": {
     "iopub.execute_input": "2021-01-09T02:24:18.864818Z",
     "iopub.status.busy": "2021-01-09T02:24:18.863915Z",
     "iopub.status.idle": "2021-01-09T02:24:19.333985Z",
     "shell.execute_reply": "2021-01-09T02:24:19.333174Z"
    }
   },
   "outputs": [
    {
     "data": {
      "text/markdown": [
       "Openning QA file at `G4sPHENIX_test-tracking_Event100_Sum10_qa.root`"
      ],
      "text/plain": [
       "<IPython.core.display.Markdown object>"
      ]
     },
     "metadata": {},
     "output_type": "display_data"
    },
    {
     "data": {
      "text/markdown": [
       "Openning QA reference file at `reference/G4sPHENIX_test-tracking-low-occupancy-qa_Event100_Sum10_qa.root`"
      ],
      "text/plain": [
       "<IPython.core.display.Markdown object>"
      ]
     },
     "metadata": {},
     "output_type": "display_data"
    }
   ],
   "source": [
    "# qa_file_new = ROOT.TFile.Open(qa_file_name_new);\n",
    "\n",
    "# assert qa_file_new.IsOpen()\n",
    "# qa_file_new.ls()\n",
    "display(Markdown(f\"Openning QA file at `{qa_file_name_new}`\"))\n",
    "ROOT.gInterpreter.ProcessLine(f\"TFile *qa_file_new = new TFile(\\\"{qa_file_name_new}\\\");\")\n",
    "ROOT.gInterpreter.ProcessLine(f\"const char * qa_file_name_new = \\\"{qa_file_name_new}\\\";\")\n",
    "\n",
    "if qa_file_name_ref is not None:\n",
    "#     qa_file_ref = ROOT.TFile.Open(qa_file_name_ref);\n",
    "\n",
    "#     assert qa_file_ref.IsOpen()\n",
    "    display(Markdown(f\"Openning QA reference file at `{qa_file_name_ref}`\"))\n",
    "    ROOT.gInterpreter.ProcessLine(f\"TFile *qa_file_ref = new TFile(\\\"{qa_file_name_ref}\\\");\")\n",
    "    ROOT.gInterpreter.ProcessLine(f\"const char *  qa_file_name_ref = \\\"{qa_file_name_ref}\\\";\")\n",
    "else:\n",
    "    ROOT.gInterpreter.ProcessLine(f\"TFile *qa_file_ref = nullptr;\")\n",
    "    ROOT.gInterpreter.ProcessLine(f\"const char *  qa_file_name_ref = nullptr;\")\n"
   ]
  },
  {
   "cell_type": "code",
   "execution_count": 11,
   "metadata": {
    "execution": {
     "iopub.execute_input": "2021-01-09T02:24:19.408805Z",
     "iopub.status.busy": "2021-01-09T02:24:19.407734Z",
     "iopub.status.idle": "2021-01-09T02:24:19.562450Z",
     "shell.execute_reply": "2021-01-09T02:24:19.561229Z"
    },
    "scrolled": true
   },
   "outputs": [],
   "source": [
    "%%cpp\n",
    "\n",
    "if (qa_file_new == nullptr) \n",
    "{\n",
    "    cout <<\"Error, can not open QA root file\"<<qa_file_name_new<<endl;\n",
    "    exit(1);\n",
    "}\n",
    "\n",
    "// list inputs histograms if needed\n",
    "// qa_file_new ->ls();\n",
    "\n",
    "//TFile *qa_file_ref = NULL;\n",
    "//if (qa_file_name_ref)\n",
    "//{\n",
    "//    qa_file_ref = new TFile(qa_file_name_ref);\n",
    "//  \n",
    "//    if (qa_file_ref == nullptr) \n",
    "//    {\n",
    "//        cout <<\"Error, can not open QA root file\"<<qa_file_name_ref<<endl;\n",
    "//        exit(1);\n",
    "//    }\n",
    "//}"
   ]
  },
  {
   "cell_type": "markdown",
   "metadata": {},
   "source": [
    "# Efficiency and Purity\n",
    "\n",
    "Tracking efficiency and purity"
   ]
  },
  {
   "cell_type": "markdown",
   "metadata": {},
   "source": [
    "## Truth matched efficiency and $p_T$ resolution\n",
    "\n",
    "Reco track matched with truth track. Please note the efficiency only require truth-reco matching in unique pairs, no cut on the reco quality is required, as defined in [`QAG4SimulationTracking::process_event(PHCompositeNode * )`](https://sphenix-collaboration.github.io/doxygen/de/dbf/classQAG4SimulationTracking.html#ac2aeab5238fcf828f70c61b4976b57fe)"
   ]
  },
  {
   "cell_type": "code",
   "execution_count": 12,
   "metadata": {
    "execution": {
     "iopub.execute_input": "2021-01-09T02:24:20.637333Z",
     "iopub.status.busy": "2021-01-09T02:24:19.575541Z",
     "iopub.status.idle": "2021-01-09T02:24:21.600748Z",
     "shell.execute_reply": "2021-01-09T02:24:21.600041Z"
    }
   },
   "outputs": [
    {
     "data": {
      "image/png": "[encoded data removed]",
      "text/plain": [
       "<IPython.core.display.Image object>"
      ]
     },
     "metadata": {},
     "output_type": "display_data"
    }
   ],
   "source": [
    "%%cpp\n",
    "\n",
    "{\n",
    "  //base histogram from the reco module name \n",
    "  const char *hist_name_prefix = \"QAG4SimulationTracking\";\n",
    "  TString prefix = TString(\"h_\") + hist_name_prefix + TString(\"_\");\n",
    "    \n",
    "  // obtain normalization\n",
    "  double Nevent_new = 1;\n",
    "  double Nevent_ref = 1;\n",
    "\n",
    "  TCanvas *c1 = new TCanvas(TString(\"QA_Draw_Tracking_TruthMatchingOverview\") +\n",
    "                                TString(\"_\") + hist_name_prefix,\n",
    "                            TString(\"QA_Draw_Tracking_TruthMatchingOverview\") +\n",
    "                                TString(\"_\") + hist_name_prefix,\n",
    "                            1800, 1000);\n",
    "  c1->Divide(3, 1);\n",
    "  int idx = 1;\n",
    "  TPad *p;\n",
    "\n",
    "  {\n",
    "    static const int nrebin = 5;\n",
    "\n",
    "    p = (TPad *)c1->cd(idx++);\n",
    "    c1->Update();\n",
    "    p->SetLogx();\n",
    "    p->SetGridy();\n",
    "\n",
    "    TH1 *h_pass =\n",
    "        (TH1 *)qa_file_new->GetObjectChecked(prefix + \"nReco_pTGen\", \"TH1\");\n",
    "    TH1 *h_norm =\n",
    "        (TH1 *)qa_file_new->GetObjectChecked(prefix + \"nGen_pTGen\", \"TH1\");\n",
    "    assert(h_norm);\n",
    "    assert(h_pass);\n",
    "\n",
    "    h_norm->Rebin(nrebin);\n",
    "    h_pass->Rebin(nrebin);\n",
    "\n",
    "    TH1 *h_ratio = GetBinominalRatio(h_pass, h_norm);\n",
    "\n",
    "    //    h_ratio->GetXaxis()->SetRangeUser(min_Et, max_Et);\n",
    "    h_ratio->GetYaxis()->SetTitle(\"Reco efficiency\");\n",
    "    h_ratio->GetYaxis()->SetRangeUser(-0, 1.);\n",
    "\n",
    "    TH1 *h_ratio_ref = NULL;\n",
    "    if (qa_file_ref) {\n",
    "      TH1 *h_pass =\n",
    "          (TH1 *)qa_file_ref->GetObjectChecked(prefix + \"nReco_pTGen\", \"TH1\");\n",
    "      TH1 *h_norm =\n",
    "          (TH1 *)qa_file_ref->GetObjectChecked(prefix + \"nGen_pTGen\", \"TH1\");\n",
    "      assert(h_norm);\n",
    "      assert(h_pass);\n",
    "      h_norm->Rebin(nrebin);\n",
    "      h_pass->Rebin(nrebin);\n",
    "      h_ratio_ref = GetBinominalRatio(h_pass, h_norm);\n",
    "    }\n",
    "\n",
    "    h_ratio->SetTitle(TString(hist_name_prefix) + \": Tracking Efficiency\");\n",
    "\n",
    "    DrawReference(h_ratio, h_ratio_ref, false);\n",
    "  }\n",
    "\n",
    "  {\n",
    "    static const int nrebin = 4;\n",
    "\n",
    "    p = (TPad *)c1->cd(idx++);\n",
    "    c1->Update();\n",
    "    // p->SetLogx();\n",
    "    p->SetGridy();\n",
    "\n",
    "    TH1 *h_pass =\n",
    "        (TH1 *)qa_file_new->GetObjectChecked(prefix + \"nReco_etaGen\", \"TH1\");\n",
    "    TH1 *h_norm =\n",
    "        (TH1 *)qa_file_new->GetObjectChecked(prefix + \"nGen_etaGen\", \"TH1\");\n",
    "    assert(h_norm);\n",
    "    assert(h_pass);\n",
    "\n",
    "    h_norm->Rebin(nrebin);\n",
    "    h_pass->Rebin(nrebin);\n",
    "\n",
    "    TH1 *h_ratio = GetBinominalRatio(h_pass, h_norm);\n",
    "\n",
    "    h_ratio->GetXaxis()->SetRangeUser(-1.1, 1.1);\n",
    "    h_ratio->GetYaxis()->SetTitle(\"Reco efficiency\");\n",
    "    h_ratio->GetYaxis()->SetRangeUser(-0, 1.);\n",
    "\n",
    "    TH1 *h_ratio_ref = NULL;\n",
    "    if (qa_file_ref) {\n",
    "      TH1 *h_pass =\n",
    "          (TH1 *)qa_file_ref->GetObjectChecked(prefix + \"nReco_etaGen\", \"TH1\");\n",
    "      TH1 *h_norm =\n",
    "          (TH1 *)qa_file_ref->GetObjectChecked(prefix + \"nGen_etaGen\", \"TH1\");\n",
    "      assert(h_norm);\n",
    "      assert(h_pass);\n",
    "      h_norm->Rebin(nrebin);\n",
    "      h_pass->Rebin(nrebin);\n",
    "      h_ratio_ref = GetBinominalRatio(h_pass, h_norm);\n",
    "    }\n",
    "\n",
    "    h_ratio->SetTitle(TString(hist_name_prefix) + \": Tracking Efficiency\");\n",
    "\n",
    "    DrawReference(h_ratio, h_ratio_ref, false);\n",
    "  }\n",
    "\n",
    "  {\n",
    "    p = (TPad *)c1->cd(idx++);\n",
    "    c1->Update();\n",
    "    //    p->SetLogx();\n",
    "    TH1 *frame = p->DrawFrame(0, .9, 50, 1.1,\n",
    "                              \"Mean and sigma, p_{T,reco}/p_{T,truth};Truth p_{T} [GeV/c];<p_{T,reco}/p_{T,truth}> #pm #sigma(p_{T,reco}/p_{T,truth})\");\n",
    "    //gPad->SetLeftMargin(.2);\n",
    "    gPad->SetTopMargin(-1);\n",
    "    frame->GetYaxis()->SetTitleOffset(1.7);\n",
    "    //TLine *l = new TLine(0, 1, 50, 1);\n",
    "    //l->SetLineColor(kGray);\n",
    "    //l->Draw();\n",
    "    HorizontalLine( gPad, 1 )->Draw();\n",
    "\n",
    "    TH2 *h_QAG4SimulationTracking_pTRecoGenRatio_pTGen =\n",
    "        (TH2 *)qa_file_new->GetObjectChecked(prefix + \"pTRecoGenRatio_pTGen\",\n",
    "                                             \"TH2\");\n",
    "    assert(h_QAG4SimulationTracking_pTRecoGenRatio_pTGen);\n",
    "\n",
    "    h_QAG4SimulationTracking_pTRecoGenRatio_pTGen->Rebin2D(16, 1);\n",
    "\n",
    "    TGraphErrors *ge_QAG4SimulationTracking_pTRecoGenRatio_pTGen =\n",
    "        FitProfile(h_QAG4SimulationTracking_pTRecoGenRatio_pTGen);\n",
    "    ge_QAG4SimulationTracking_pTRecoGenRatio_pTGen->Draw(\"pe\");\n",
    "    ge_QAG4SimulationTracking_pTRecoGenRatio_pTGen->SetTitle(\n",
    "        \"Mean and sigma, p_{T,reco}/p_{T,truth}\");\n",
    "\n",
    "    TGraphErrors *h_ratio_ref = NULL;\n",
    "    if (qa_file_ref) {\n",
    "      TH2 *h_QAG4SimulationTracking_pTRecoGenRatio_pTGen =\n",
    "          (TH2 *)qa_file_ref->GetObjectChecked(prefix + \"pTRecoGenRatio_pTGen\",\n",
    "                                               \"TH2\");\n",
    "      assert(h_QAG4SimulationTracking_pTRecoGenRatio_pTGen);\n",
    "\n",
    "      h_QAG4SimulationTracking_pTRecoGenRatio_pTGen->Rebin2D(16, 1);\n",
    "\n",
    "      h_ratio_ref = FitProfile(h_QAG4SimulationTracking_pTRecoGenRatio_pTGen);\n",
    "      ge_QAG4SimulationTracking_pTRecoGenRatio_pTGen->Draw(\"pe\");\n",
    "    }\n",
    "\n",
    "    DrawReference(ge_QAG4SimulationTracking_pTRecoGenRatio_pTGen, h_ratio_ref,\n",
    "                  true);\n",
    "  }\n",
    "\n",
    "  //SaveCanvas(c1,\n",
    "  //           TString(qa_file_name_new) + TString(\"_\") + TString(c1->GetName()),\n",
    "  //           true);\n",
    "    \n",
    "  c1->Draw();\n",
    "}\n"
   ]
  },
  {
   "cell_type": "markdown",
   "metadata": {},
   "source": [
    "# Upsilon reconstruction\n",
    "\n",
    "One $\\Upsilon(1S) \\rightarrow e^+ e^-$ is embedded. Here is its reco results"
   ]
  },
  {
   "cell_type": "code",
   "execution_count": 13,
   "metadata": {
    "execution": {
     "iopub.execute_input": "2021-01-09T02:24:21.629108Z",
     "iopub.status.busy": "2021-01-09T02:24:21.628021Z",
     "iopub.status.idle": "2021-01-09T02:24:21.730413Z",
     "shell.execute_reply": "2021-01-09T02:24:21.729676Z"
    }
   },
   "outputs": [],
   "source": [
    "%%cpp -d\n",
    "\n",
    "// christal ball function for Upsilon fits\n",
    "Double_t CBcalc(Double_t *xx, Double_t *par)\n",
    "{\n",
    "  // Crystal Ball fit to one state\n",
    "  double f;\n",
    "  double x = xx[0];\n",
    "\n",
    "  // The four parameters (alpha, n, x_mean, sigma) plus normalization (N) are:\n",
    "   \n",
    "  double alpha = par[0];\n",
    "  double n = par[1];\n",
    "  double x_mean = par[2];\n",
    "  double sigma = par[3];\n",
    "  double N = par[4];\n",
    "\n",
    "  // we need:\n",
    "\n",
    "  double A = pow( (n/TMath::Abs(alpha)),n) * exp(-pow(alpha,2)/2.0);\n",
    "  double B = n/TMath::Abs(alpha) - TMath::Abs(alpha);\n",
    "\n",
    "  // The Crystal Ball function is:\n",
    "   \n",
    "  if( (x-x_mean)/sigma > -alpha)\n",
    "  {\n",
    "    f = N * exp( -pow(x-x_mean,2) / (2.0*pow(sigma,2)));\n",
    "  }\n",
    "  else\n",
    "  {\n",
    "    f = N * A * pow(B - (x-x_mean)/sigma, -n);\n",
    "  }\n",
    "\n",
    "  return f;\n",
    "}\n",
    "\n"
   ]
  },
  {
   "cell_type": "code",
   "execution_count": 14,
   "metadata": {
    "execution": {
     "iopub.execute_input": "2021-01-09T02:24:22.040666Z",
     "iopub.status.busy": "2021-01-09T02:24:22.039438Z",
     "iopub.status.idle": "2021-01-09T02:24:23.158679Z",
     "shell.execute_reply": "2021-01-09T02:24:23.157671Z"
    }
   },
   "outputs": [
    {
     "name": "stdout",
     "output_type": "stream",
     "text": [
      "\n",
      "****************************************\n",
      "Minimizer is Minuit2\n",
      "Chi2                      =      128.632\n",
      "NDf                       =          171\n",
      "Edm                       =  1.55027e-07\n",
      "NCalls                    =          355\n",
      "alpha1S                   =      1.61948   +/-   0.0966251   \n",
      "n1S                       =     0.799288   +/-   0.0857923   \n",
      "m1S                       =      1.00186   +/-   0.000523739 \n",
      "sigma1S                   =    0.0138458   +/-   0.000580703 \n",
      "N1S                       =      110.195   +/-   5.3636      \n",
      "\n",
      "****************************************\n",
      "Minimizer is Minuit2\n",
      "Chi2                      =      112.426\n",
      "NDf                       =          188\n",
      "Edm                       =  2.80024e-07\n",
      "NCalls                    =          381\n",
      "alpha1S                   =      1.78946   +/-   0.0822528   \n",
      "n1S                       =     0.634464   +/-   0.0594993   \n",
      "m1S                       =     0.997248   +/-   0.000449226 \n",
      "sigma1S                   =    0.0121731   +/-   0.000403159 \n",
      "N1S                       =      124.327   +/-   5.45731     \n",
      "\n",
      "****************************************\n",
      "Minimizer is Minuit2\n",
      "Chi2                      =      69.1941\n",
      "NDf                       =          105\n",
      "Edm                       =  3.13637e-06\n",
      "NCalls                    =          165\n",
      "alpha1S                   =      1.31965   +/-   0.164305    \n",
      "n1S                       =     0.611465   +/-   0.121425    \n",
      "m1S                       =      9.46742   +/-   0.00982454  \n",
      "sigma1S                   =     0.114334   +/-   0.0105654   \n",
      "N1S                       =      30.2928   +/-   2.74649     \n",
      "\n",
      "****************************************\n",
      "Minimizer is Minuit2\n",
      "Chi2                      =      67.6002\n",
      "NDf                       =          126\n",
      "Edm                       =    1.599e-06\n",
      "NCalls                    =          194\n",
      "alpha1S                   =      1.80928   +/-   0.140236    \n",
      "n1S                       =     0.337974   +/-   0.0776178   \n",
      "m1S                       =      9.42219   +/-   0.00655044  \n",
      "sigma1S                   =    0.0968991   +/-   0.00582467  \n",
      "N1S                       =      35.5073   +/-   2.95225     \n"
     ]
    },
    {
     "data": {
      "image/png": "[encoded data removed]",
      "text/plain": [
       "<IPython.core.display.Image object>"
      ]
     },
     "metadata": {},
     "output_type": "display_data"
    }
   ],
   "source": [
    "%%cpp\n",
    "\n",
    "{\n",
    "  const char *hist_name_prefix = \"QAG4SimulationUpsilon\";\n",
    "  TString prefix = TString(\"h_\") + hist_name_prefix + TString(\"_\");\n",
    "\n",
    "  // obtain normalization\n",
    "  double Nevent_new = 1;\n",
    "  double Nevent_ref = 1;\n",
    "    \n",
    "\n",
    "  TCanvas *c1 = new TCanvas(TString(\"QA_Draw_Tracking_UpsilonOverview\") + TString(\"_\") + hist_name_prefix,\n",
    "                            TString(\"QA_Draw_Tracking_UpsilonOverview\") + TString(\"_\") + hist_name_prefix,\n",
    "                            1800, 1000);\n",
    "  c1->Divide(2, 1);\n",
    "  int idx = 1;\n",
    "  TPad *p;\n",
    "\n",
    "  {\n",
    "    p = (TPad *) c1->cd(idx++);\n",
    "    c1->Update();\n",
    "    p->SetLogy();\n",
    "\n",
    "    TH2 *h_new = (TH2 *) qa_file_new->GetObjectChecked(\n",
    "        prefix + TString(\"pTRecoGenRatio_pTGen\"), \"TH2\");\n",
    "    assert(h_new);\n",
    "\n",
    "    //  h_new->Rebin(1, 2);\n",
    "    //h_new->Sumw2();\n",
    "    //  h_new->Scale(1. / Nevent_new);\n",
    "\n",
    "    TH2 *h_ref = NULL;\n",
    "    if (qa_file_ref)\n",
    "    {\n",
    "      h_ref = (TH2 *) qa_file_ref->GetObjectChecked(\n",
    "          prefix + TString(\"pTRecoGenRatio_pTGen\"), \"TH2\");\n",
    "      assert(h_ref);\n",
    "\n",
    "      //    h_ref->Rebin(1, 2);\n",
    "      //h_ref->Sumw2();\n",
    "      h_ref->Scale(Nevent_new / Nevent_ref);\n",
    "    }\n",
    "\n",
    "    TH1 *h_proj_new = h_new->ProjectionY(\n",
    "        TString::Format(\n",
    "            \"%s_New_ProjX\",\n",
    "            h_new->GetName()));\n",
    "\n",
    "    h_proj_new->GetXaxis()->SetRangeUser(0, 1.3);\n",
    "    h_proj_new->SetTitle(TString(hist_name_prefix) + TString::Format(\n",
    "                                                         \": Electron lineshape\"));\n",
    "    h_proj_new->GetXaxis()->SetTitle(TString::Format(\n",
    "        \"Reco p_{T}/Truth p_{T}\"));\n",
    "    \n",
    "    TF1 *f_eLineshape = new TF1(\"f_eLineshape\", CBcalc, 7, 11, 5);\n",
    "    f_eLineshape->SetParameter(0, 1.0);\n",
    "    f_eLineshape->SetParameter(1, 1.0);\n",
    "    f_eLineshape->SetParameter(2, 0.95);\n",
    "    f_eLineshape->SetParameter(3, 0.08);\n",
    "    f_eLineshape->SetParameter(4, 20.0);\n",
    "\n",
    "    f_eLineshape->SetParNames(\"alpha1S\",\"n1S\",\"m1S\",\"sigma1S\",\"N1S\");\n",
    "    f_eLineshape->SetLineColor(kRed);\n",
    "    f_eLineshape->SetLineWidth(3);\n",
    "    f_eLineshape->SetLineStyle(kSolid);\n",
    "    f_eLineshape->SetNpx(1000);\n",
    "\n",
    "    h_proj_new->Fit(f_eLineshape);\n",
    "\n",
    "    TH1 *h_proj_ref = nullptr;\n",
    "    if (h_ref)\n",
    "    {\n",
    "      h_proj_ref =\n",
    "          h_ref->ProjectionY(\n",
    "              TString::Format(\n",
    "                  \"%s_Ref_ProjX\",\n",
    "                  h_new->GetName()));\n",
    "    }\n",
    "    TF1 *f_eLineshape_ref = new TF1(\"f_eLineshape_ref\", CBcalc, 7, 11, 5);\n",
    "    f_eLineshape_ref->SetParameter(0, 1.0);\n",
    "    f_eLineshape_ref->SetParameter(1, 1.0);\n",
    "    f_eLineshape_ref->SetParameter(2, 0.95);\n",
    "    f_eLineshape_ref->SetParameter(3, 0.08);\n",
    "    f_eLineshape_ref->SetParameter(4, 20.0);\n",
    "\n",
    "    f_eLineshape_ref->SetParNames(\"alpha1S\",\"n1S\",\"m1S\",\"sigma1S\",\"N1S\");\n",
    "    f_eLineshape_ref->SetLineColor(kRed);\n",
    "    f_eLineshape_ref->SetLineWidth(3);\n",
    "    f_eLineshape_ref->SetLineStyle(kSolid);\n",
    "\n",
    "    h_proj_ref->Fit(f_eLineshape_ref);\n",
    "\n",
    "\n",
    "    DrawReference(h_proj_new, h_proj_ref);\n",
    "    f_eLineshape->Draw(\"same\");\n",
    "\n",
    "    char resstr_1[500];\n",
    "    sprintf(resstr_1,\"#sigma_{dp/p} = %.2f #pm %.2f %%\", f_eLineshape->GetParameter(3)*100, f_eLineshape->GetParError(3)*100);\n",
    "    TLatex *res_1 = new TLatex(0.2,0.75,resstr_1);\n",
    "    res_1->SetNDC();\n",
    "    res_1->SetTextSize(0.05);\n",
    "    res_1->SetTextAlign(13);\n",
    "    res_1->Draw();\n",
    "\n",
    "    char resstr_2[500];\n",
    "    sprintf(resstr_2,\"#sigma_{dp/p,ref} = %.2f #pm %.2f %%\", f_eLineshape_ref->GetParameter(3)*100, f_eLineshape_ref->GetParError(3)*100);\n",
    "    TLatex *res_2 = new TLatex(0.2,0.7,resstr_2);\n",
    "    res_2->SetNDC();\n",
    "    res_2->SetTextSize(0.05);\n",
    "    res_2->SetTextAlign(13);\n",
    "    res_2->Draw();\n",
    "  }\n",
    "\n",
    "  {\n",
    "    p = (TPad *) c1->cd(idx++);\n",
    "    c1->Update();\n",
    "//    p->SetLogy();\n",
    "\n",
    "    TH1 *h_new = (TH1 *) qa_file_new->GetObjectChecked(\n",
    "        prefix + TString(\"nReco_Pair_InvMassReco\"), \"TH1\");\n",
    "    assert(h_new);\n",
    "\n",
    "    //    h_new->Rebin(2);\n",
    "    //h_new->Sumw2();\n",
    "    //  h_new->Scale(1. / Nevent_new);\n",
    "\n",
    "    TF1 *f1S = new TF1(\"f1S\", CBcalc, 7, 11, 5);\n",
    "    f1S->SetParameter(0, 1.0);\n",
    "    f1S->SetParameter(1, 1.0);\n",
    "    f1S->SetParameter(2, 9.46);\n",
    "    f1S->SetParameter(3, 0.08);\n",
    "    f1S->SetParameter(4, 50.0);\n",
    "\n",
    "    f1S->SetParNames(\"alpha1S\",\"n1S\",\"m1S\",\"sigma1S\",\"N1S\");\n",
    "    f1S->SetLineColor(kRed);\n",
    "    f1S->SetLineWidth(3);\n",
    "    f1S->SetLineStyle(kSolid);\n",
    "    f1S->SetNpx(1000);\n",
    "\n",
    "    h_new->Fit(f1S);\n",
    "\n",
    "    TH1 *h_ref = NULL;\n",
    "    if (qa_file_ref)\n",
    "    {\n",
    "      h_ref = (TH1 *) qa_file_ref->GetObjectChecked(\n",
    "          prefix + TString(\"nReco_Pair_InvMassReco\"), \"TH1\");\n",
    "      assert(h_ref);\n",
    "\n",
    "      //      h_ref->Rebin(2);\n",
    "    //h_ref->Sumw2();\n",
    "      //      h_ref->Scale(Nevent_new / Nevent_ref);\n",
    "    }\n",
    "\n",
    "    h_new->SetTitle(TString(hist_name_prefix) + TString::Format(\n",
    "                                                    \": #Upsilon #rightarrow e^{+}e^{-} lineshape\"));\n",
    "    h_new->GetXaxis()->SetRangeUser(7, 10);\n",
    "\n",
    "    TF1 *f1S_ref = new TF1(\"f1S_ref\", CBcalc, 7, 11, 5);\n",
    "    f1S_ref->SetParameter(0, 1.0);\n",
    "    f1S_ref->SetParameter(1, 1.0);\n",
    "    f1S_ref->SetParameter(2, 9.46);\n",
    "    f1S_ref->SetParameter(3, 0.08);\n",
    "    f1S_ref->SetParameter(4, 50.0);\n",
    "\n",
    "    f1S_ref->SetParNames(\"alpha1S\",\"n1S\",\"m1S\",\"sigma1S\",\"N1S\");\n",
    "    f1S_ref->SetLineColor(kRed);\n",
    "    f1S_ref->SetLineWidth(3);\n",
    "    f1S_ref->SetLineStyle(kSolid);\n",
    "\n",
    "    h_ref->Fit(f1S_ref);\n",
    "\n",
    "    DrawReference(h_new, h_ref, false);\n",
    "    f1S->Draw(\"same\");\n",
    "\n",
    "    // cout << \"f1S pars \" <<  f1S->GetParameter(3) << \"   \" << f1S->GetParError(3) << endl;\n",
    "\n",
    "    char resstr_3[500];\n",
    "    sprintf(resstr_3,\"#sigma_{1S} = %.1f #pm %.1f MeV\", f1S->GetParameter(3)*1000, f1S->GetParError(3)*1000);\n",
    "    TLatex *res_3 = new TLatex(0.2,0.75,resstr_3);\n",
    "    res_3->SetNDC();\n",
    "    res_3->SetTextSize(0.05);\n",
    "    res_3->SetTextAlign(13);\n",
    "    res_3->Draw();\n",
    "\n",
    "    char resstr_4[500];\n",
    "    sprintf(resstr_4,\"#sigma_{1S,ref} = %.1f #pm %.1f MeV\", f1S_ref->GetParameter(3)*1000, f1S_ref->GetParError(3)*1000);\n",
    "    TLatex *res_4 = new TLatex(0.2,0.7,resstr_4);\n",
    "    res_4->SetNDC();\n",
    "    res_4->SetTextSize(0.05);\n",
    "    res_4->SetTextAlign(13);\n",
    "    res_4->Draw();\n",
    "  }\n",
    "\n",
    "  // SaveCanvas(c1, TString(qa_file_name_new) + TString(\"_\") + TString(c1->GetName()), true);\n",
    "    \n",
    "  c1 -> Draw();\n",
    "}"
   ]
  },
  {
   "cell_type": "code",
   "execution_count": null,
   "metadata": {},
   "outputs": [],
   "source": []
  }
 ],
 "metadata": {
  "kernelspec": {
   "display_name": "Python (sPHENIX)",
   "language": "python",
   "name": "sphenix-env"
  },
  "language_info": {
   "codemirror_mode": {
    "name": "ipython",
    "version": 3
   },
   "file_extension": ".py",
   "mimetype": "text/x-python",
   "name": "python",
   "nbconvert_exporter": "python",
   "pygments_lexer": "ipython3",
   "version": "3.8.0"
  }
 },
 "nbformat": 4,
 "nbformat_minor": 4
}
