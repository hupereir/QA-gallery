{
 "cells": [
  {
   "cell_type": "markdown",
   "metadata": {},
   "source": [
    "# Introduction\n",
    "\n",
    "QA plots for the generic tracking performance"
   ]
  },
  {
   "cell_type": "code",
   "execution_count": 1,
   "metadata": {
    "execution": {
     "iopub.execute_input": "2021-01-08T15:22:42.334146Z",
     "iopub.status.busy": "2021-01-08T15:22:42.332863Z",
     "iopub.status.idle": "2021-01-08T15:22:42.336152Z",
     "shell.execute_reply": "2021-01-08T15:22:42.335309Z"
    }
   },
   "outputs": [],
   "source": [
    "# imports to write dynamic markdown contents\n",
    "import os\n",
    "from IPython.display import display, Markdown, Latex\n",
    "from IPython.display import HTML"
   ]
  },
  {
   "cell_type": "code",
   "execution_count": 2,
   "metadata": {
    "execution": {
     "iopub.execute_input": "2021-01-08T15:22:42.353005Z",
     "iopub.status.busy": "2021-01-08T15:22:42.351937Z",
     "iopub.status.idle": "2021-01-08T15:22:42.359551Z",
     "shell.execute_reply": "2021-01-08T15:22:42.360248Z"
    }
   },
   "outputs": [
    {
     "data": {
      "text/markdown": [
       "*For the result HTML page:* "
      ],
      "text/plain": [
       "<IPython.core.display.Markdown object>"
      ]
     },
     "metadata": {},
     "output_type": "display_data"
    },
    {
     "data": {
      "text/html": [
       "<script>\n",
       "code_show=true; \n",
       "function code_toggle() {\n",
       " if (code_show){\n",
       " $('div.input').hide();\n",
       " } else {\n",
       " $('div.input').show();\n",
       " }\n",
       " code_show = !code_show\n",
       "} \n",
       "$( document ).ready(code_toggle);\n",
       "</script>\n",
       "<form action=\"javascript:code_toggle()\"><input type=\"submit\" value=\"Click here to toggle on/off the raw code.\"></form>"
      ],
      "text/plain": [
       "<IPython.core.display.HTML object>"
      ]
     },
     "execution_count": 1,
     "metadata": {},
     "output_type": "execute_result"
    }
   ],
   "source": [
    "# turn off/on code for the result HTML page\n",
    "\n",
    "display(Markdown('*For the result HTML page:* '))\n",
    "    \n",
    "HTML('''<script>\n",
    "code_show=true; \n",
    "function code_toggle() {\n",
    " if (code_show){\n",
    " $('div.input').hide();\n",
    " } else {\n",
    " $('div.input').show();\n",
    " }\n",
    " code_show = !code_show\n",
    "} \n",
    "$( document ).ready(code_toggle);\n",
    "</script>\n",
    "<form action=\"javascript:code_toggle()\"><input type=\"submit\" value=\"Click here to toggle on/off the raw code.\"></form>''')"
   ]
  },
  {
   "cell_type": "code",
   "execution_count": 3,
   "metadata": {
    "execution": {
     "iopub.execute_input": "2021-01-08T15:22:42.367484Z",
     "iopub.status.busy": "2021-01-08T15:22:42.366840Z",
     "iopub.status.idle": "2021-01-08T15:22:50.846075Z",
     "shell.execute_reply": "2021-01-08T15:22:50.846617Z"
    }
   },
   "outputs": [
    {
     "data": {
      "text/markdown": [
       "pyROOT env check:"
      ],
      "text/plain": [
       "<IPython.core.display.Markdown object>"
      ]
     },
     "metadata": {},
     "output_type": "display_data"
    },
    {
     "name": "stdout",
     "output_type": "stream",
     "text": [
      "Welcome to JupyROOT 6.22/02\n"
     ]
    },
    {
     "data": {
      "text/markdown": [
       "via sPHENIX software distribution at `/cvmfs/sphenix.sdcc.bnl.gov/gcc-8.3/release/release_new/new.3`"
      ],
      "text/plain": [
       "<IPython.core.display.Markdown object>"
      ]
     },
     "metadata": {},
     "output_type": "display_data"
    }
   ],
   "source": [
    "# initialization\n",
    "\n",
    "display(Markdown('pyROOT env check:'))\n",
    "\n",
    "import ROOT\n",
    "\n",
    "OFFLINE_MAIN = os.getenv(\"OFFLINE_MAIN\")\n",
    "if OFFLINE_MAIN is not None:\n",
    "    display(Markdown(f\"via sPHENIX software distribution at `{OFFLINE_MAIN}`\"))"
   ]
  },
  {
   "cell_type": "code",
   "execution_count": 4,
   "metadata": {
    "execution": {
     "iopub.execute_input": "2021-01-08T15:22:50.854360Z",
     "iopub.status.busy": "2021-01-08T15:22:50.853665Z",
     "iopub.status.idle": "2021-01-08T15:22:51.094800Z",
     "shell.execute_reply": "2021-01-08T15:22:51.094170Z"
    }
   },
   "outputs": [
    {
     "data": {
      "text/markdown": [
       "View the source code repository at https://github.com/sPHENIX-Collaboration/QA-gallery.git"
      ],
      "text/plain": [
       "<IPython.core.display.Markdown object>"
      ]
     },
     "metadata": {},
     "output_type": "display_data"
    }
   ],
   "source": [
    "import subprocess\n",
    "\n",
    "try:\n",
    "    git_url = \\\n",
    "        subprocess.run(['git','remote','get-url','origin'], stdout=subprocess.PIPE)\\\n",
    "        .stdout.decode('utf-8').strip()\\\n",
    "        .replace('git@github.com:','https://github.com/')\n",
    "\n",
    "    display(Markdown(f\"View the source code repository at {git_url}\"))\n",
    "except: # catch *all* exceptions\n",
    "    #     well do nothing\n",
    "    pass\n"
   ]
  },
  {
   "cell_type": "code",
   "execution_count": 5,
   "metadata": {
    "execution": {
     "iopub.execute_input": "2021-01-08T15:22:51.121258Z",
     "iopub.status.busy": "2021-01-08T15:22:51.120519Z",
     "iopub.status.idle": "2021-01-08T15:22:51.254337Z",
     "shell.execute_reply": "2021-01-08T15:22:51.252828Z"
    }
   },
   "outputs": [
    {
     "data": {
      "text/markdown": [
       "Some further details about the QA run, if executed under the Jenkins CI:"
      ],
      "text/plain": [
       "<IPython.core.display.Markdown object>"
      ]
     },
     "metadata": {},
     "output_type": "display_data"
    },
    {
     "data": {
      "text/markdown": [
       "* The commit being checked is sPHENIX-Collaboration/coresoftware/08b33387c63ed095e7aef9d15fa7b40b2042a75c"
      ],
      "text/plain": [
       "<IPython.core.display.Markdown object>"
      ]
     },
     "metadata": {},
     "output_type": "display_data"
    },
    {
     "data": {
      "text/markdown": [
       "* Link to the pull request: https://github.com/sPHENIX-Collaboration/coresoftware/pull/1042"
      ],
      "text/plain": [
       "<IPython.core.display.Markdown object>"
      ]
     },
     "metadata": {},
     "output_type": "display_data"
    },
    {
     "data": {
      "text/markdown": [
       "* Link to the build: https://web.sdcc.bnl.gov/jenkins-sphenix/job/sPHENIX/job/test-tracking-low-occupancy-qa/645/"
      ],
      "text/plain": [
       "<IPython.core.display.Markdown object>"
      ]
     },
     "metadata": {},
     "output_type": "display_data"
    },
    {
     "data": {
      "text/markdown": [
       "* Git repo for macros: https://github.com/sPHENIX-Collaboration/macros.git , which merges */master and the QA tracking branch"
      ],
      "text/plain": [
       "<IPython.core.display.Markdown object>"
      ]
     },
     "metadata": {},
     "output_type": "display_data"
    },
    {
     "data": {
      "text/markdown": [
       "* Download the QA ROOT files: https://web.sdcc.bnl.gov/jenkins-sphenix/job/sPHENIX/job/test-tracking-low-occupancy-qa/645/display/redirect?page=artifacts"
      ],
      "text/plain": [
       "<IPython.core.display.Markdown object>"
      ]
     },
     "metadata": {},
     "output_type": "display_data"
    },
    {
     "data": {
      "text/markdown": [
       "Automatically generated by [sPHENIX Jenkins continuous integration](https://web.sdcc.bnl.gov/jenkins-sphenix/) [![sPHENIX](https://raw.githubusercontent.com/sPHENIX-Collaboration/utilities/master/jenkins/material/sphenix-logo-white-bg-72p.png)](https://www.sphenix.bnl.gov/web/) &nbsp; &nbsp; &nbsp; &nbsp; &nbsp; &nbsp; [![jenkins.io](https://raw.githubusercontent.com/sPHENIX-Collaboration/utilities/master/jenkins/material/jenkins_logo_title-72p.png)](https://jenkins.io/)"
      ],
      "text/plain": [
       "<IPython.core.display.Markdown object>"
      ]
     },
     "metadata": {},
     "output_type": "display_data"
    }
   ],
   "source": [
    "display(Markdown('Some further details about the QA run, if executed under the Jenkins CI:'))\n",
    "\n",
    "checkrun_repo_commit = os.getenv(\"checkrun_repo_commit\")\n",
    "if checkrun_repo_commit is not None:\n",
    "    display(Markdown(f\"* The commit being checked is {checkrun_repo_commit}\"))\n",
    "        \n",
    "ghprbPullLink = os.getenv(\"ghprbPullLink\")\n",
    "if ghprbPullLink is not None:\n",
    "    display(Markdown(f\"* Link to the pull request: {ghprbPullLink}\"))\n",
    "\n",
    "BUILD_URL =  os.getenv(\"BUILD_URL\")\n",
    "if BUILD_URL is not None:\n",
    "    display(Markdown(f\"* Link to the build: {BUILD_URL}\"))\n",
    "\n",
    "git_url_macros =  os.getenv(\"git_url_macros\")\n",
    "sha_macros =  os.getenv(\"sha_macros\")\n",
    "if git_url_macros is not None:\n",
    "    display(Markdown(f\"* Git repo for macros: {git_url_macros} , which merges {sha_macros} and the QA tracking branch\"))\n",
    "\n",
    "RUN_ARTIFACTS_DISPLAY_URL = os.getenv(\"RUN_ARTIFACTS_DISPLAY_URL\")\n",
    "if RUN_ARTIFACTS_DISPLAY_URL is not None:\n",
    "    display(Markdown(f\"* Download the QA ROOT files: {RUN_ARTIFACTS_DISPLAY_URL}\"))\n",
    "\n",
    "JENKINS_URL  = os.getenv(\"JENKINS_URL\")\n",
    "if JENKINS_URL is not None:\n",
    "    display(Markdown(f\"Automatically generated by [sPHENIX Jenkins continuous integration]({JENKINS_URL}) [![sPHENIX](https://raw.githubusercontent.com/sPHENIX-Collaboration/utilities/master/jenkins/material/sphenix-logo-white-bg-72p.png)](https://www.sphenix.bnl.gov/web/) &nbsp; &nbsp; &nbsp; &nbsp; &nbsp; &nbsp; [![jenkins.io](https://raw.githubusercontent.com/sPHENIX-Collaboration/utilities/master/jenkins/material/jenkins_logo_title-72p.png)](https://jenkins.io/)\"))"
   ]
  },
  {
   "cell_type": "markdown",
   "metadata": {},
   "source": [
    "\n",
    "# Initialization"
   ]
  },
  {
   "cell_type": "code",
   "execution_count": 6,
   "metadata": {
    "execution": {
     "iopub.execute_input": "2021-01-08T15:22:51.825422Z",
     "iopub.status.busy": "2021-01-08T15:22:51.824796Z",
     "iopub.status.idle": "2021-01-08T15:22:51.935543Z",
     "shell.execute_reply": "2021-01-08T15:22:51.934090Z"
    },
    "scrolled": true
   },
   "outputs": [],
   "source": [
    "%%cpp -d\n",
    "\n",
    "#include \"QA_Draw_Utility.C\"\n",
    "\n",
    "#include <sPhenixStyle.C>\n",
    "\n",
    "#include <TFile.h>\n",
    "#include <TLine.h>\n",
    "#include <TString.h>\n",
    "#include <TTree.h>\n",
    "#include <cassert>\n",
    "#include <cmath>"
   ]
  },
  {
   "cell_type": "code",
   "execution_count": 7,
   "metadata": {
    "execution": {
     "iopub.execute_input": "2021-01-08T15:22:54.062075Z",
     "iopub.status.busy": "2021-01-08T15:22:54.060535Z",
     "iopub.status.idle": "2021-01-08T15:22:54.168713Z",
     "shell.execute_reply": "2021-01-08T15:22:54.168032Z"
    }
   },
   "outputs": [
    {
     "name": "stdout",
     "output_type": "stream",
     "text": [
      "sPhenixStyle: Applying nominal settings.\n",
      "sPhenixStyle: ROOT6 mode\n"
     ]
    }
   ],
   "source": [
    "%%cpp\n",
    "\n",
    "SetsPhenixStyle();\n",
    "TVirtualFitter::SetDefaultFitter(\"Minuit2\");\n",
    "\n",
    "// test sPHENIX lib load\n",
    "// gSystem->Load(\"libg4eval.so\");\n",
    "\n",
    "// test libs\n",
    "// gSystem->ListLibraries();"
   ]
  },
  {
   "cell_type": "markdown",
   "metadata": {},
   "source": [
    "## Inputs and file checks"
   ]
  },
  {
   "cell_type": "code",
   "execution_count": 8,
   "metadata": {
    "execution": {
     "iopub.execute_input": "2021-01-08T15:22:54.177939Z",
     "iopub.status.busy": "2021-01-08T15:22:54.176949Z",
     "iopub.status.idle": "2021-01-08T15:22:54.347047Z",
     "shell.execute_reply": "2021-01-08T15:22:54.346299Z"
    }
   },
   "outputs": [],
   "source": [
    "\n",
    "qa_file_name_new = os.getenv(\"qa_file_name_new\")\n",
    "if qa_file_name_new is None:\n",
    "    qa_file_name_new = \"G4sPHENIX_test-tracking-low-occupancy-qa_Event100_Sum10_qa.root\"\n",
    "    display(Markdown(f\"`qa_file_name_new` env not set. use the default `qa_file_name_new={qa_file_name_new}`\"))\n",
    "\n",
    "qa_file_name_ref = os.getenv(\"qa_file_name_ref\")\n",
    "if qa_file_name_ref is None:\n",
    "    qa_file_name_ref = \"reference/G4sPHENIX_test-tracking-low-occupancy-qa_Event100_Sum10_qa.root\"\n",
    "    display(Markdown(f\"`qa_file_name_ref` env not set. use the default `qa_file_name_ref={qa_file_name_ref}`\"))\n",
    "elif qa_file_name_ref == 'None':\n",
    "    qa_file_name_ref = None\n",
    "    display(Markdown(f\"`qa_file_name_ref` = None and we are set to not to use the reference histograms\"))\n",
    "    \n"
   ]
  },
  {
   "cell_type": "code",
   "execution_count": 9,
   "metadata": {
    "execution": {
     "iopub.execute_input": "2021-01-08T15:22:54.355270Z",
     "iopub.status.busy": "2021-01-08T15:22:54.354563Z",
     "iopub.status.idle": "2021-01-08T15:22:54.690908Z",
     "shell.execute_reply": "2021-01-08T15:22:54.697834Z"
    }
   },
   "outputs": [
    {
     "data": {
      "text/markdown": [
       "Openning QA file at `G4sPHENIX_test-tracking_Event100_Sum10_qa.root`"
      ],
      "text/plain": [
       "<IPython.core.display.Markdown object>"
      ]
     },
     "metadata": {},
     "output_type": "display_data"
    },
    {
     "data": {
      "text/markdown": [
       "Openning QA reference file at `reference/G4sPHENIX_test-tracking-low-occupancy-qa_Event100_Sum10_qa.root`"
      ],
      "text/plain": [
       "<IPython.core.display.Markdown object>"
      ]
     },
     "metadata": {},
     "output_type": "display_data"
    }
   ],
   "source": [
    "# qa_file_new = ROOT.TFile.Open(qa_file_name_new);\n",
    "\n",
    "# assert qa_file_new.IsOpen()\n",
    "# qa_file_new.ls()\n",
    "display(Markdown(f\"Openning QA file at `{qa_file_name_new}`\"))\n",
    "ROOT.gInterpreter.ProcessLine(f\"TFile *qa_file_new = new TFile(\\\"{qa_file_name_new}\\\");\")\n",
    "ROOT.gInterpreter.ProcessLine(f\"const char * qa_file_name_new = \\\"{qa_file_name_new}\\\";\")\n",
    "\n",
    "if qa_file_name_ref is not None:\n",
    "#     qa_file_ref = ROOT.TFile.Open(qa_file_name_ref);\n",
    "\n",
    "#     assert qa_file_ref.IsOpen()\n",
    "    display(Markdown(f\"Openning QA reference file at `{qa_file_name_ref}`\"))\n",
    "    ROOT.gInterpreter.ProcessLine(f\"TFile *qa_file_ref = new TFile(\\\"{qa_file_name_ref}\\\");\")\n",
    "    ROOT.gInterpreter.ProcessLine(f\"const char *  qa_file_name_ref = \\\"{qa_file_name_ref}\\\";\")\n",
    "else:\n",
    "    ROOT.gInterpreter.ProcessLine(f\"TFile *qa_file_ref = nullptr;\")\n",
    "    ROOT.gInterpreter.ProcessLine(f\"const char *  qa_file_name_ref = nullptr;\")\n"
   ]
  },
  {
   "cell_type": "code",
   "execution_count": 10,
   "metadata": {
    "execution": {
     "iopub.execute_input": "2021-01-08T15:22:54.757642Z",
     "iopub.status.busy": "2021-01-08T15:22:54.756828Z",
     "iopub.status.idle": "2021-01-08T15:22:54.861982Z",
     "shell.execute_reply": "2021-01-08T15:22:54.861384Z"
    },
    "scrolled": true
   },
   "outputs": [],
   "source": [
    "%%cpp\n",
    "\n",
    "if (qa_file_new == nullptr) \n",
    "{\n",
    "    cout <<\"Error, can not open QA root file\"<<qa_file_name_new<<endl;\n",
    "    exit(1);\n",
    "}\n",
    "\n",
    "// list inputs histograms if needed\n",
    "// qa_file_new ->ls();\n",
    "\n",
    "//TFile *qa_file_ref = NULL;\n",
    "//if (qa_file_name_ref)\n",
    "//{\n",
    "//    qa_file_ref = new TFile(qa_file_name_ref);\n",
    "//  \n",
    "//    if (qa_file_ref == nullptr) \n",
    "//    {\n",
    "//        cout <<\"Error, can not open QA root file\"<<qa_file_name_ref<<endl;\n",
    "//        exit(1);\n",
    "//    }\n",
    "//}"
   ]
  },
  {
   "cell_type": "markdown",
   "metadata": {},
   "source": [
    "# Efficiency and Purity\n",
    "\n",
    "Tracking efficiency and purity"
   ]
  },
  {
   "cell_type": "markdown",
   "metadata": {},
   "source": [
    "## Truth matched efficiency and $p_T$ resolution\n",
    "\n",
    "Reco track matched with truth track. Please note the efficiency only require truth-reco matching in unique pairs, no cut on the reco quality is required, as defined in [`QAG4SimulationTracking::process_event(PHCompositeNode * )`](https://sphenix-collaboration.github.io/doxygen/de/dbf/classQAG4SimulationTracking.html#ac2aeab5238fcf828f70c61b4976b57fe)"
   ]
  },
  {
   "cell_type": "code",
   "execution_count": 11,
   "metadata": {
    "execution": {
     "iopub.execute_input": "2021-01-08T15:22:55.183101Z",
     "iopub.status.busy": "2021-01-08T15:22:55.181045Z",
     "iopub.status.idle": "2021-01-08T15:22:55.980222Z",
     "shell.execute_reply": "2021-01-08T15:22:55.980994Z"
    }
   },
   "outputs": [
    {
     "data": {
      "image/png": "[encoded data removed]",
      "text/plain": [
       "<IPython.core.display.Image object>"
      ]
     },
     "metadata": {},
     "output_type": "display_data"
    }
   ],
   "source": [
    "%%cpp\n",
    "\n",
    "{\n",
    "  //base histogram from the reco module name \n",
    "  const char *hist_name_prefix = \"QAG4SimulationTracking\";\n",
    "  TString prefix = TString(\"h_\") + hist_name_prefix + TString(\"_\");\n",
    "    \n",
    "  // obtain normalization\n",
    "  double Nevent_new = 1;\n",
    "  double Nevent_ref = 1;\n",
    "\n",
    "  TCanvas *c1 = new TCanvas(TString(\"QA_Draw_Tracking_TruthMatchingOverview\") +\n",
    "                                TString(\"_\") + hist_name_prefix,\n",
    "                            TString(\"QA_Draw_Tracking_TruthMatchingOverview\") +\n",
    "                                TString(\"_\") + hist_name_prefix,\n",
    "                            1800, 1000);\n",
    "  c1->Divide(3, 1);\n",
    "  int idx = 1;\n",
    "  TPad *p;\n",
    "\n",
    "  {\n",
    "    static const int nrebin = 5;\n",
    "\n",
    "    p = (TPad *)c1->cd(idx++);\n",
    "    c1->Update();\n",
    "    p->SetLogx();\n",
    "    p->SetGridy();\n",
    "\n",
    "    TH1 *h_pass =\n",
    "        (TH1 *)qa_file_new->GetObjectChecked(prefix + \"nReco_pTGen\", \"TH1\");\n",
    "    TH1 *h_norm =\n",
    "        (TH1 *)qa_file_new->GetObjectChecked(prefix + \"nGen_pTGen\", \"TH1\");\n",
    "    assert(h_norm);\n",
    "    assert(h_pass);\n",
    "\n",
    "    h_norm->Rebin(nrebin);\n",
    "    h_pass->Rebin(nrebin);\n",
    "\n",
    "    TH1 *h_ratio = GetBinominalRatio(h_pass, h_norm);\n",
    "\n",
    "    //    h_ratio->GetXaxis()->SetRangeUser(min_Et, max_Et);\n",
    "    h_ratio->GetYaxis()->SetTitle(\"Reco efficiency\");\n",
    "    h_ratio->GetYaxis()->SetRangeUser(-0, 1.);\n",
    "\n",
    "    TH1 *h_ratio_ref = NULL;\n",
    "    if (qa_file_ref) {\n",
    "      TH1 *h_pass =\n",
    "          (TH1 *)qa_file_ref->GetObjectChecked(prefix + \"nReco_pTGen\", \"TH1\");\n",
    "      TH1 *h_norm =\n",
    "          (TH1 *)qa_file_ref->GetObjectChecked(prefix + \"nGen_pTGen\", \"TH1\");\n",
    "      assert(h_norm);\n",
    "      assert(h_pass);\n",
    "      h_norm->Rebin(nrebin);\n",
    "      h_pass->Rebin(nrebin);\n",
    "      h_ratio_ref = GetBinominalRatio(h_pass, h_norm);\n",
    "    }\n",
    "\n",
    "    h_ratio->SetTitle(TString(hist_name_prefix) + \": Tracking Efficiency\");\n",
    "\n",
    "    DrawReference(h_ratio, h_ratio_ref, false);\n",
    "  }\n",
    "\n",
    "  {\n",
    "    static const int nrebin = 4;\n",
    "\n",
    "    p = (TPad *)c1->cd(idx++);\n",
    "    c1->Update();\n",
    "    // p->SetLogx();\n",
    "    p->SetGridy();\n",
    "\n",
    "    TH1 *h_pass =\n",
    "        (TH1 *)qa_file_new->GetObjectChecked(prefix + \"nReco_etaGen\", \"TH1\");\n",
    "    TH1 *h_norm =\n",
    "        (TH1 *)qa_file_new->GetObjectChecked(prefix + \"nGen_etaGen\", \"TH1\");\n",
    "    assert(h_norm);\n",
    "    assert(h_pass);\n",
    "\n",
    "    h_norm->Rebin(nrebin);\n",
    "    h_pass->Rebin(nrebin);\n",
    "\n",
    "    TH1 *h_ratio = GetBinominalRatio(h_pass, h_norm);\n",
    "\n",
    "    h_ratio->GetXaxis()->SetRangeUser(-1.1, 1.1);\n",
    "    h_ratio->GetYaxis()->SetTitle(\"Reco efficiency\");\n",
    "    h_ratio->GetYaxis()->SetRangeUser(-0, 1.);\n",
    "\n",
    "    TH1 *h_ratio_ref = NULL;\n",
    "    if (qa_file_ref) {\n",
    "      TH1 *h_pass =\n",
    "          (TH1 *)qa_file_ref->GetObjectChecked(prefix + \"nReco_etaGen\", \"TH1\");\n",
    "      TH1 *h_norm =\n",
    "          (TH1 *)qa_file_ref->GetObjectChecked(prefix + \"nGen_etaGen\", \"TH1\");\n",
    "      assert(h_norm);\n",
    "      assert(h_pass);\n",
    "      h_norm->Rebin(nrebin);\n",
    "      h_pass->Rebin(nrebin);\n",
    "      h_ratio_ref = GetBinominalRatio(h_pass, h_norm);\n",
    "    }\n",
    "\n",
    "    h_ratio->SetTitle(TString(hist_name_prefix) + \": Tracking Efficiency\");\n",
    "\n",
    "    DrawReference(h_ratio, h_ratio_ref, false);\n",
    "  }\n",
    "\n",
    "  {\n",
    "    p = (TPad *)c1->cd(idx++);\n",
    "    c1->Update();\n",
    "    //    p->SetLogx();\n",
    "    TH1 *frame = p->DrawFrame(0, .9, 50, 1.1,\n",
    "                              \"Mean and sigma, p_{T,reco}/p_{T,truth};Truth p_{T} [GeV/c];<p_{T,reco}/p_{T,truth}> #pm #sigma(p_{T,reco}/p_{T,truth})\");\n",
    "    //gPad->SetLeftMargin(.2);\n",
    "    gPad->SetTopMargin(-1);\n",
    "    frame->GetYaxis()->SetTitleOffset(1.7);\n",
    "    //TLine *l = new TLine(0, 1, 50, 1);\n",
    "    //l->SetLineColor(kGray);\n",
    "    //l->Draw();\n",
    "    HorizontalLine( gPad, 1 )->Draw();\n",
    "\n",
    "    TH2 *h_QAG4SimulationTracking_pTRecoGenRatio_pTGen =\n",
    "        (TH2 *)qa_file_new->GetObjectChecked(prefix + \"pTRecoGenRatio_pTGen\",\n",
    "                                             \"TH2\");\n",
    "    assert(h_QAG4SimulationTracking_pTRecoGenRatio_pTGen);\n",
    "\n",
    "    h_QAG4SimulationTracking_pTRecoGenRatio_pTGen->Rebin2D(16, 1);\n",
    "\n",
    "    TGraphErrors *ge_QAG4SimulationTracking_pTRecoGenRatio_pTGen =\n",
    "        FitProfile(h_QAG4SimulationTracking_pTRecoGenRatio_pTGen);\n",
    "    ge_QAG4SimulationTracking_pTRecoGenRatio_pTGen->Draw(\"pe\");\n",
    "    ge_QAG4SimulationTracking_pTRecoGenRatio_pTGen->SetTitle(\n",
    "        \"Mean and sigma, p_{T,reco}/p_{T,truth}\");\n",
    "\n",
    "    TGraphErrors *h_ratio_ref = NULL;\n",
    "    if (qa_file_ref) {\n",
    "      TH2 *h_QAG4SimulationTracking_pTRecoGenRatio_pTGen =\n",
    "          (TH2 *)qa_file_ref->GetObjectChecked(prefix + \"pTRecoGenRatio_pTGen\",\n",
    "                                               \"TH2\");\n",
    "      assert(h_QAG4SimulationTracking_pTRecoGenRatio_pTGen);\n",
    "\n",
    "      h_QAG4SimulationTracking_pTRecoGenRatio_pTGen->Rebin2D(16, 1);\n",
    "\n",
    "      h_ratio_ref = FitProfile(h_QAG4SimulationTracking_pTRecoGenRatio_pTGen);\n",
    "      ge_QAG4SimulationTracking_pTRecoGenRatio_pTGen->Draw(\"pe\");\n",
    "    }\n",
    "\n",
    "    DrawReference(ge_QAG4SimulationTracking_pTRecoGenRatio_pTGen, h_ratio_ref,\n",
    "                  true);\n",
    "  }\n",
    "\n",
    "  //SaveCanvas(c1,\n",
    "  //           TString(qa_file_name_new) + TString(\"_\") + TString(c1->GetName()),\n",
    "  //           true);\n",
    "    \n",
    "  c1->Draw();\n",
    "}\n"
   ]
  },
  {
   "cell_type": "markdown",
   "metadata": {},
   "source": [
    "## Reco tower jet spectrum\n",
    "\n",
    "Jet the details of the reco tower jet in response to this single particle"
   ]
  }
 ],
 "metadata": {
  "kernelspec": {
   "display_name": "Python (sPHENIX)",
   "language": "python",
   "name": "sphenix-env"
  },
  "language_info": {
   "codemirror_mode": {
    "name": "ipython",
    "version": 3
   },
   "file_extension": ".py",
   "mimetype": "text/x-python",
   "name": "python",
   "nbconvert_exporter": "python",
   "pygments_lexer": "ipython3",
   "version": "3.8.0"
  }
 },
 "nbformat": 4,
 "nbformat_minor": 4
}
